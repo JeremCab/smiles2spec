{
 "cells": [
  {
   "cell_type": "markdown",
   "id": "227f3553-2fe0-4491-b1ce-057794d1a566",
   "metadata": {},
   "source": [
    "# Prepare datasets"
   ]
  },
  {
   "cell_type": "markdown",
   "id": "ada0901f",
   "metadata": {},
   "source": [
    "This notebook prepares the datasets according to the data available at:<br>\n",
    "https://github.com/gfm-collab/chemprop-IR?tab=readme-ov-file"
   ]
  },
  {
   "cell_type": "markdown",
   "id": "f30a3d27-74e2-4ddf-b1f9-9fc3caed32ba",
   "metadata": {},
   "source": [
    "## Libraries"
   ]
  },
  {
   "cell_type": "code",
   "execution_count": 1,
   "id": "b972feba",
   "metadata": {
    "tags": []
   },
   "outputs": [],
   "source": [
    "# !pip install -U transformers\n",
    "# !pip install -U datasets\n",
    "# !pip install -U huggingface_hub"
   ]
  },
  {
   "cell_type": "code",
   "execution_count": 2,
   "id": "68cf8776-943f-4538-bcdb-c649688c2cc0",
   "metadata": {
    "tags": []
   },
   "outputs": [],
   "source": [
    "import os\n",
    "\n",
    "import ast\n",
    "\n",
    "import numpy as np\n",
    "import pandas as pd\n",
    "\n",
    "from sklearn.model_selection import train_test_split\n",
    "\n",
    "import datasets\n",
    "\n",
    "import matplotlib.pyplot as plt"
   ]
  },
  {
   "cell_type": "markdown",
   "id": "cd7aae31-0dbc-410f-bb4e-af480c000a0b",
   "metadata": {
    "tags": []
   },
   "source": [
    "## Load data"
   ]
  },
  {
   "cell_type": "code",
   "execution_count": 3,
   "id": "91821900-0b15-4de2-b9d0-778b637331c3",
   "metadata": {
    "tags": []
   },
   "outputs": [],
   "source": [
    "# computed spectra (local folder)\n",
    "data_folder = \"/storage/smiles2spec/datasets\"\n",
    "\n",
    "data_file = os.path.join(data_folder, \"computed_spectra.csv\")\n",
    "suffix = \"comp\"\n",
    "\n",
    "# experimental spectra\n",
    "# data_file = \"ir_models_data/solvation_example/solvation_spectra.csv\"\n",
    "# suffix = \"exp\""
   ]
  },
  {
   "cell_type": "code",
   "execution_count": 4,
   "id": "9fe17095-7db6-42c1-bc72-4653480ee06f",
   "metadata": {
    "tags": []
   },
   "outputs": [],
   "source": [
    "data_df = pd.read_csv(data_file)"
   ]
  },
  {
   "cell_type": "code",
   "execution_count": 5,
   "id": "27693573-d615-4e60-9697-96439066afcb",
   "metadata": {
    "tags": []
   },
   "outputs": [
    {
     "data": {
      "text/html": [
       "<div>\n",
       "<style scoped>\n",
       "    .dataframe tbody tr th:only-of-type {\n",
       "        vertical-align: middle;\n",
       "    }\n",
       "\n",
       "    .dataframe tbody tr th {\n",
       "        vertical-align: top;\n",
       "    }\n",
       "\n",
       "    .dataframe thead th {\n",
       "        text-align: right;\n",
       "    }\n",
       "</style>\n",
       "<table border=\"1\" class=\"dataframe\">\n",
       "  <thead>\n",
       "    <tr style=\"text-align: right;\">\n",
       "      <th></th>\n",
       "      <th>smiles</th>\n",
       "      <th>400</th>\n",
       "      <th>402</th>\n",
       "      <th>404</th>\n",
       "      <th>406</th>\n",
       "      <th>408</th>\n",
       "      <th>410</th>\n",
       "      <th>412</th>\n",
       "      <th>414</th>\n",
       "      <th>416</th>\n",
       "      <th>...</th>\n",
       "      <th>3982</th>\n",
       "      <th>3984</th>\n",
       "      <th>3986</th>\n",
       "      <th>3988</th>\n",
       "      <th>3990</th>\n",
       "      <th>3992</th>\n",
       "      <th>3994</th>\n",
       "      <th>3996</th>\n",
       "      <th>3998</th>\n",
       "      <th>4000</th>\n",
       "    </tr>\n",
       "  </thead>\n",
       "  <tbody>\n",
       "    <tr>\n",
       "      <th>0</th>\n",
       "      <td>CN(c1ccc(NC(=O)Nc2ccccc2)cc1)S(=O)(=O)c1ccc(-c...</td>\n",
       "      <td>0.000771</td>\n",
       "      <td>0.000772</td>\n",
       "      <td>0.000774</td>\n",
       "      <td>0.000785</td>\n",
       "      <td>0.000792</td>\n",
       "      <td>0.000797</td>\n",
       "      <td>0.000800</td>\n",
       "      <td>0.000809</td>\n",
       "      <td>0.000812</td>\n",
       "      <td>...</td>\n",
       "      <td>0.000774</td>\n",
       "      <td>0.000786</td>\n",
       "      <td>0.000803</td>\n",
       "      <td>0.000780</td>\n",
       "      <td>0.000782</td>\n",
       "      <td>0.000776</td>\n",
       "      <td>0.000770</td>\n",
       "      <td>0.000765</td>\n",
       "      <td>0.000764</td>\n",
       "      <td>0.000767</td>\n",
       "    </tr>\n",
       "    <tr>\n",
       "      <th>1</th>\n",
       "      <td>CC(O)CC(C)C#COC#CC(C)CC(C)O</td>\n",
       "      <td>0.001267</td>\n",
       "      <td>0.001275</td>\n",
       "      <td>0.001275</td>\n",
       "      <td>0.001290</td>\n",
       "      <td>0.001292</td>\n",
       "      <td>0.001303</td>\n",
       "      <td>0.001306</td>\n",
       "      <td>0.001320</td>\n",
       "      <td>0.001335</td>\n",
       "      <td>...</td>\n",
       "      <td>0.001032</td>\n",
       "      <td>0.001046</td>\n",
       "      <td>0.001065</td>\n",
       "      <td>0.001040</td>\n",
       "      <td>0.001047</td>\n",
       "      <td>0.001011</td>\n",
       "      <td>0.001003</td>\n",
       "      <td>0.001020</td>\n",
       "      <td>0.001040</td>\n",
       "      <td>0.000981</td>\n",
       "    </tr>\n",
       "    <tr>\n",
       "      <th>2</th>\n",
       "      <td>Cc1cc([N+](=O)[O-])ccc1NC(=O)c1ccc(OCC(C)C)c(B...</td>\n",
       "      <td>0.000540</td>\n",
       "      <td>0.000540</td>\n",
       "      <td>0.000540</td>\n",
       "      <td>0.000541</td>\n",
       "      <td>0.000545</td>\n",
       "      <td>0.000547</td>\n",
       "      <td>0.000545</td>\n",
       "      <td>0.000545</td>\n",
       "      <td>0.000548</td>\n",
       "      <td>...</td>\n",
       "      <td>0.000462</td>\n",
       "      <td>0.000465</td>\n",
       "      <td>0.000453</td>\n",
       "      <td>0.000481</td>\n",
       "      <td>0.000469</td>\n",
       "      <td>0.000452</td>\n",
       "      <td>0.000458</td>\n",
       "      <td>0.000458</td>\n",
       "      <td>0.000465</td>\n",
       "      <td>0.000448</td>\n",
       "    </tr>\n",
       "    <tr>\n",
       "      <th>3</th>\n",
       "      <td>COC12C(COC(N)=O)C3=C(C(=O)C(C)=C(N)C3=O)N1CC1NC12</td>\n",
       "      <td>0.001041</td>\n",
       "      <td>0.001044</td>\n",
       "      <td>0.001044</td>\n",
       "      <td>0.001053</td>\n",
       "      <td>0.001056</td>\n",
       "      <td>0.001063</td>\n",
       "      <td>0.001061</td>\n",
       "      <td>0.001069</td>\n",
       "      <td>0.001074</td>\n",
       "      <td>...</td>\n",
       "      <td>0.001045</td>\n",
       "      <td>0.001055</td>\n",
       "      <td>0.001057</td>\n",
       "      <td>0.001063</td>\n",
       "      <td>0.001051</td>\n",
       "      <td>0.001031</td>\n",
       "      <td>0.001030</td>\n",
       "      <td>0.001023</td>\n",
       "      <td>0.001026</td>\n",
       "      <td>0.001022</td>\n",
       "    </tr>\n",
       "    <tr>\n",
       "      <th>4</th>\n",
       "      <td>CC(C)(O)C(NC(=O)c1cnn2cc(C3CC3)cnc12)c1ccc(OC(...</td>\n",
       "      <td>0.000721</td>\n",
       "      <td>0.000727</td>\n",
       "      <td>0.000726</td>\n",
       "      <td>0.000733</td>\n",
       "      <td>0.000737</td>\n",
       "      <td>0.000743</td>\n",
       "      <td>0.000745</td>\n",
       "      <td>0.000748</td>\n",
       "      <td>0.000760</td>\n",
       "      <td>...</td>\n",
       "      <td>0.000649</td>\n",
       "      <td>0.000653</td>\n",
       "      <td>0.000655</td>\n",
       "      <td>0.000656</td>\n",
       "      <td>0.000650</td>\n",
       "      <td>0.000636</td>\n",
       "      <td>0.000633</td>\n",
       "      <td>0.000632</td>\n",
       "      <td>0.000635</td>\n",
       "      <td>0.000628</td>\n",
       "    </tr>\n",
       "    <tr>\n",
       "      <th>...</th>\n",
       "      <td>...</td>\n",
       "      <td>...</td>\n",
       "      <td>...</td>\n",
       "      <td>...</td>\n",
       "      <td>...</td>\n",
       "      <td>...</td>\n",
       "      <td>...</td>\n",
       "      <td>...</td>\n",
       "      <td>...</td>\n",
       "      <td>...</td>\n",
       "      <td>...</td>\n",
       "      <td>...</td>\n",
       "      <td>...</td>\n",
       "      <td>...</td>\n",
       "      <td>...</td>\n",
       "      <td>...</td>\n",
       "      <td>...</td>\n",
       "      <td>...</td>\n",
       "      <td>...</td>\n",
       "      <td>...</td>\n",
       "      <td>...</td>\n",
       "    </tr>\n",
       "    <tr>\n",
       "      <th>85501</th>\n",
       "      <td>N#Cc1c(Br)[nH]c2c(O)cccc12</td>\n",
       "      <td>0.001536</td>\n",
       "      <td>0.001529</td>\n",
       "      <td>0.001526</td>\n",
       "      <td>0.001542</td>\n",
       "      <td>0.001543</td>\n",
       "      <td>0.001550</td>\n",
       "      <td>0.001555</td>\n",
       "      <td>0.001582</td>\n",
       "      <td>0.001577</td>\n",
       "      <td>...</td>\n",
       "      <td>0.000386</td>\n",
       "      <td>0.000379</td>\n",
       "      <td>0.000344</td>\n",
       "      <td>0.000405</td>\n",
       "      <td>0.000378</td>\n",
       "      <td>0.000348</td>\n",
       "      <td>0.000360</td>\n",
       "      <td>0.000366</td>\n",
       "      <td>0.000375</td>\n",
       "      <td>0.000352</td>\n",
       "    </tr>\n",
       "    <tr>\n",
       "      <th>85502</th>\n",
       "      <td>CC(=O)c1cnc2sc(C(=O)Nc3cc(NC(=O)c4cccc(C(C)(C)...</td>\n",
       "      <td>0.001173</td>\n",
       "      <td>0.001170</td>\n",
       "      <td>0.001179</td>\n",
       "      <td>0.001178</td>\n",
       "      <td>0.001185</td>\n",
       "      <td>0.001190</td>\n",
       "      <td>0.001186</td>\n",
       "      <td>0.001191</td>\n",
       "      <td>0.001203</td>\n",
       "      <td>...</td>\n",
       "      <td>0.000725</td>\n",
       "      <td>0.000735</td>\n",
       "      <td>0.000743</td>\n",
       "      <td>0.000736</td>\n",
       "      <td>0.000736</td>\n",
       "      <td>0.000719</td>\n",
       "      <td>0.000718</td>\n",
       "      <td>0.000723</td>\n",
       "      <td>0.000732</td>\n",
       "      <td>0.000705</td>\n",
       "    </tr>\n",
       "    <tr>\n",
       "      <th>85503</th>\n",
       "      <td>Cc1ccc(C=NNc2cc(C(F)(F)F)ccc2Cl)cc1</td>\n",
       "      <td>0.000756</td>\n",
       "      <td>0.000757</td>\n",
       "      <td>0.000751</td>\n",
       "      <td>0.000758</td>\n",
       "      <td>0.000764</td>\n",
       "      <td>0.000762</td>\n",
       "      <td>0.000760</td>\n",
       "      <td>0.000759</td>\n",
       "      <td>0.000758</td>\n",
       "      <td>...</td>\n",
       "      <td>0.000368</td>\n",
       "      <td>0.000365</td>\n",
       "      <td>0.000349</td>\n",
       "      <td>0.000381</td>\n",
       "      <td>0.000366</td>\n",
       "      <td>0.000352</td>\n",
       "      <td>0.000358</td>\n",
       "      <td>0.000356</td>\n",
       "      <td>0.000358</td>\n",
       "      <td>0.000354</td>\n",
       "    </tr>\n",
       "    <tr>\n",
       "      <th>85504</th>\n",
       "      <td>CN(C)Cc1c(C(=O)NC2N=C(c3ccccc3F)c3cccc4c3N(CC4...</td>\n",
       "      <td>0.001383</td>\n",
       "      <td>0.001370</td>\n",
       "      <td>0.001379</td>\n",
       "      <td>0.001362</td>\n",
       "      <td>0.001364</td>\n",
       "      <td>0.001355</td>\n",
       "      <td>0.001344</td>\n",
       "      <td>0.001336</td>\n",
       "      <td>0.001336</td>\n",
       "      <td>...</td>\n",
       "      <td>0.000793</td>\n",
       "      <td>0.000801</td>\n",
       "      <td>0.000797</td>\n",
       "      <td>0.000811</td>\n",
       "      <td>0.000799</td>\n",
       "      <td>0.000788</td>\n",
       "      <td>0.000790</td>\n",
       "      <td>0.000780</td>\n",
       "      <td>0.000778</td>\n",
       "      <td>0.000785</td>\n",
       "    </tr>\n",
       "    <tr>\n",
       "      <th>85505</th>\n",
       "      <td>Cc1ccc2oc(C(=O)Nc3ccccc3C)cc2n1</td>\n",
       "      <td>0.000442</td>\n",
       "      <td>0.000440</td>\n",
       "      <td>0.000438</td>\n",
       "      <td>0.000437</td>\n",
       "      <td>0.000443</td>\n",
       "      <td>0.000442</td>\n",
       "      <td>0.000443</td>\n",
       "      <td>0.000446</td>\n",
       "      <td>0.000442</td>\n",
       "      <td>...</td>\n",
       "      <td>0.000595</td>\n",
       "      <td>0.000606</td>\n",
       "      <td>0.000609</td>\n",
       "      <td>0.000608</td>\n",
       "      <td>0.000605</td>\n",
       "      <td>0.000586</td>\n",
       "      <td>0.000585</td>\n",
       "      <td>0.000584</td>\n",
       "      <td>0.000592</td>\n",
       "      <td>0.000575</td>\n",
       "    </tr>\n",
       "  </tbody>\n",
       "</table>\n",
       "<p>85506 rows × 1802 columns</p>\n",
       "</div>"
      ],
      "text/plain": [
       "                                                  smiles       400       402  \\\n",
       "0      CN(c1ccc(NC(=O)Nc2ccccc2)cc1)S(=O)(=O)c1ccc(-c...  0.000771  0.000772   \n",
       "1                            CC(O)CC(C)C#COC#CC(C)CC(C)O  0.001267  0.001275   \n",
       "2      Cc1cc([N+](=O)[O-])ccc1NC(=O)c1ccc(OCC(C)C)c(B...  0.000540  0.000540   \n",
       "3      COC12C(COC(N)=O)C3=C(C(=O)C(C)=C(N)C3=O)N1CC1NC12  0.001041  0.001044   \n",
       "4      CC(C)(O)C(NC(=O)c1cnn2cc(C3CC3)cnc12)c1ccc(OC(...  0.000721  0.000727   \n",
       "...                                                  ...       ...       ...   \n",
       "85501                         N#Cc1c(Br)[nH]c2c(O)cccc12  0.001536  0.001529   \n",
       "85502  CC(=O)c1cnc2sc(C(=O)Nc3cc(NC(=O)c4cccc(C(C)(C)...  0.001173  0.001170   \n",
       "85503                Cc1ccc(C=NNc2cc(C(F)(F)F)ccc2Cl)cc1  0.000756  0.000757   \n",
       "85504  CN(C)Cc1c(C(=O)NC2N=C(c3ccccc3F)c3cccc4c3N(CC4...  0.001383  0.001370   \n",
       "85505                    Cc1ccc2oc(C(=O)Nc3ccccc3C)cc2n1  0.000442  0.000440   \n",
       "\n",
       "            404       406       408       410       412       414       416  \\\n",
       "0      0.000774  0.000785  0.000792  0.000797  0.000800  0.000809  0.000812   \n",
       "1      0.001275  0.001290  0.001292  0.001303  0.001306  0.001320  0.001335   \n",
       "2      0.000540  0.000541  0.000545  0.000547  0.000545  0.000545  0.000548   \n",
       "3      0.001044  0.001053  0.001056  0.001063  0.001061  0.001069  0.001074   \n",
       "4      0.000726  0.000733  0.000737  0.000743  0.000745  0.000748  0.000760   \n",
       "...         ...       ...       ...       ...       ...       ...       ...   \n",
       "85501  0.001526  0.001542  0.001543  0.001550  0.001555  0.001582  0.001577   \n",
       "85502  0.001179  0.001178  0.001185  0.001190  0.001186  0.001191  0.001203   \n",
       "85503  0.000751  0.000758  0.000764  0.000762  0.000760  0.000759  0.000758   \n",
       "85504  0.001379  0.001362  0.001364  0.001355  0.001344  0.001336  0.001336   \n",
       "85505  0.000438  0.000437  0.000443  0.000442  0.000443  0.000446  0.000442   \n",
       "\n",
       "       ...      3982      3984      3986      3988      3990      3992  \\\n",
       "0      ...  0.000774  0.000786  0.000803  0.000780  0.000782  0.000776   \n",
       "1      ...  0.001032  0.001046  0.001065  0.001040  0.001047  0.001011   \n",
       "2      ...  0.000462  0.000465  0.000453  0.000481  0.000469  0.000452   \n",
       "3      ...  0.001045  0.001055  0.001057  0.001063  0.001051  0.001031   \n",
       "4      ...  0.000649  0.000653  0.000655  0.000656  0.000650  0.000636   \n",
       "...    ...       ...       ...       ...       ...       ...       ...   \n",
       "85501  ...  0.000386  0.000379  0.000344  0.000405  0.000378  0.000348   \n",
       "85502  ...  0.000725  0.000735  0.000743  0.000736  0.000736  0.000719   \n",
       "85503  ...  0.000368  0.000365  0.000349  0.000381  0.000366  0.000352   \n",
       "85504  ...  0.000793  0.000801  0.000797  0.000811  0.000799  0.000788   \n",
       "85505  ...  0.000595  0.000606  0.000609  0.000608  0.000605  0.000586   \n",
       "\n",
       "           3994      3996      3998      4000  \n",
       "0      0.000770  0.000765  0.000764  0.000767  \n",
       "1      0.001003  0.001020  0.001040  0.000981  \n",
       "2      0.000458  0.000458  0.000465  0.000448  \n",
       "3      0.001030  0.001023  0.001026  0.001022  \n",
       "4      0.000633  0.000632  0.000635  0.000628  \n",
       "...         ...       ...       ...       ...  \n",
       "85501  0.000360  0.000366  0.000375  0.000352  \n",
       "85502  0.000718  0.000723  0.000732  0.000705  \n",
       "85503  0.000358  0.000356  0.000358  0.000354  \n",
       "85504  0.000790  0.000780  0.000778  0.000785  \n",
       "85505  0.000585  0.000584  0.000592  0.000575  \n",
       "\n",
       "[85506 rows x 1802 columns]"
      ]
     },
     "execution_count": 5,
     "metadata": {},
     "output_type": "execute_result"
    }
   ],
   "source": [
    "data_df"
   ]
  },
  {
   "cell_type": "code",
   "execution_count": 6,
   "id": "01785935-d968-4d36-9a65-d6fabe53e473",
   "metadata": {
    "tags": []
   },
   "outputs": [],
   "source": [
    "if suffix == \"exp\":\n",
    "    \n",
    "    data_df = data_df.rename(columns= {\"Unnamed: 0\" : \"smiles\"})\n",
    "    \n",
    "    # concatenate phase data\n",
    "    data_comp_file = \"ir_models_data/solvation_example/solvation_phases.csv\"\n",
    "    data_comp_df = pd.read_csv(data_comp_file)\n",
    "    data_df = pd.concat([data_df, data_comp_df], axis=1)\n",
    "    \n",
    "    # reorder columns\n",
    "    cols = data_df.columns.tolist()\n",
    "    data_df = data_df[cols[-2:] + cols[:-2]]"
   ]
  },
  {
   "cell_type": "code",
   "execution_count": 7,
   "id": "e7b54ea4",
   "metadata": {},
   "outputs": [
    {
     "data": {
      "text/html": [
       "<div>\n",
       "<style scoped>\n",
       "    .dataframe tbody tr th:only-of-type {\n",
       "        vertical-align: middle;\n",
       "    }\n",
       "\n",
       "    .dataframe tbody tr th {\n",
       "        vertical-align: top;\n",
       "    }\n",
       "\n",
       "    .dataframe thead th {\n",
       "        text-align: right;\n",
       "    }\n",
       "</style>\n",
       "<table border=\"1\" class=\"dataframe\">\n",
       "  <thead>\n",
       "    <tr style=\"text-align: right;\">\n",
       "      <th></th>\n",
       "      <th>smiles</th>\n",
       "      <th>400</th>\n",
       "      <th>402</th>\n",
       "      <th>404</th>\n",
       "      <th>406</th>\n",
       "      <th>408</th>\n",
       "      <th>410</th>\n",
       "      <th>412</th>\n",
       "      <th>414</th>\n",
       "      <th>416</th>\n",
       "      <th>...</th>\n",
       "      <th>3982</th>\n",
       "      <th>3984</th>\n",
       "      <th>3986</th>\n",
       "      <th>3988</th>\n",
       "      <th>3990</th>\n",
       "      <th>3992</th>\n",
       "      <th>3994</th>\n",
       "      <th>3996</th>\n",
       "      <th>3998</th>\n",
       "      <th>4000</th>\n",
       "    </tr>\n",
       "  </thead>\n",
       "  <tbody>\n",
       "    <tr>\n",
       "      <th>0</th>\n",
       "      <td>CN(c1ccc(NC(=O)Nc2ccccc2)cc1)S(=O)(=O)c1ccc(-c...</td>\n",
       "      <td>0.000771</td>\n",
       "      <td>0.000772</td>\n",
       "      <td>0.000774</td>\n",
       "      <td>0.000785</td>\n",
       "      <td>0.000792</td>\n",
       "      <td>0.000797</td>\n",
       "      <td>0.000800</td>\n",
       "      <td>0.000809</td>\n",
       "      <td>0.000812</td>\n",
       "      <td>...</td>\n",
       "      <td>0.000774</td>\n",
       "      <td>0.000786</td>\n",
       "      <td>0.000803</td>\n",
       "      <td>0.000780</td>\n",
       "      <td>0.000782</td>\n",
       "      <td>0.000776</td>\n",
       "      <td>0.000770</td>\n",
       "      <td>0.000765</td>\n",
       "      <td>0.000764</td>\n",
       "      <td>0.000767</td>\n",
       "    </tr>\n",
       "    <tr>\n",
       "      <th>1</th>\n",
       "      <td>CC(O)CC(C)C#COC#CC(C)CC(C)O</td>\n",
       "      <td>0.001267</td>\n",
       "      <td>0.001275</td>\n",
       "      <td>0.001275</td>\n",
       "      <td>0.001290</td>\n",
       "      <td>0.001292</td>\n",
       "      <td>0.001303</td>\n",
       "      <td>0.001306</td>\n",
       "      <td>0.001320</td>\n",
       "      <td>0.001335</td>\n",
       "      <td>...</td>\n",
       "      <td>0.001032</td>\n",
       "      <td>0.001046</td>\n",
       "      <td>0.001065</td>\n",
       "      <td>0.001040</td>\n",
       "      <td>0.001047</td>\n",
       "      <td>0.001011</td>\n",
       "      <td>0.001003</td>\n",
       "      <td>0.001020</td>\n",
       "      <td>0.001040</td>\n",
       "      <td>0.000981</td>\n",
       "    </tr>\n",
       "    <tr>\n",
       "      <th>2</th>\n",
       "      <td>Cc1cc([N+](=O)[O-])ccc1NC(=O)c1ccc(OCC(C)C)c(B...</td>\n",
       "      <td>0.000540</td>\n",
       "      <td>0.000540</td>\n",
       "      <td>0.000540</td>\n",
       "      <td>0.000541</td>\n",
       "      <td>0.000545</td>\n",
       "      <td>0.000547</td>\n",
       "      <td>0.000545</td>\n",
       "      <td>0.000545</td>\n",
       "      <td>0.000548</td>\n",
       "      <td>...</td>\n",
       "      <td>0.000462</td>\n",
       "      <td>0.000465</td>\n",
       "      <td>0.000453</td>\n",
       "      <td>0.000481</td>\n",
       "      <td>0.000469</td>\n",
       "      <td>0.000452</td>\n",
       "      <td>0.000458</td>\n",
       "      <td>0.000458</td>\n",
       "      <td>0.000465</td>\n",
       "      <td>0.000448</td>\n",
       "    </tr>\n",
       "    <tr>\n",
       "      <th>3</th>\n",
       "      <td>COC12C(COC(N)=O)C3=C(C(=O)C(C)=C(N)C3=O)N1CC1NC12</td>\n",
       "      <td>0.001041</td>\n",
       "      <td>0.001044</td>\n",
       "      <td>0.001044</td>\n",
       "      <td>0.001053</td>\n",
       "      <td>0.001056</td>\n",
       "      <td>0.001063</td>\n",
       "      <td>0.001061</td>\n",
       "      <td>0.001069</td>\n",
       "      <td>0.001074</td>\n",
       "      <td>...</td>\n",
       "      <td>0.001045</td>\n",
       "      <td>0.001055</td>\n",
       "      <td>0.001057</td>\n",
       "      <td>0.001063</td>\n",
       "      <td>0.001051</td>\n",
       "      <td>0.001031</td>\n",
       "      <td>0.001030</td>\n",
       "      <td>0.001023</td>\n",
       "      <td>0.001026</td>\n",
       "      <td>0.001022</td>\n",
       "    </tr>\n",
       "    <tr>\n",
       "      <th>4</th>\n",
       "      <td>CC(C)(O)C(NC(=O)c1cnn2cc(C3CC3)cnc12)c1ccc(OC(...</td>\n",
       "      <td>0.000721</td>\n",
       "      <td>0.000727</td>\n",
       "      <td>0.000726</td>\n",
       "      <td>0.000733</td>\n",
       "      <td>0.000737</td>\n",
       "      <td>0.000743</td>\n",
       "      <td>0.000745</td>\n",
       "      <td>0.000748</td>\n",
       "      <td>0.000760</td>\n",
       "      <td>...</td>\n",
       "      <td>0.000649</td>\n",
       "      <td>0.000653</td>\n",
       "      <td>0.000655</td>\n",
       "      <td>0.000656</td>\n",
       "      <td>0.000650</td>\n",
       "      <td>0.000636</td>\n",
       "      <td>0.000633</td>\n",
       "      <td>0.000632</td>\n",
       "      <td>0.000635</td>\n",
       "      <td>0.000628</td>\n",
       "    </tr>\n",
       "  </tbody>\n",
       "</table>\n",
       "<p>5 rows × 1802 columns</p>\n",
       "</div>"
      ],
      "text/plain": [
       "                                              smiles       400       402  \\\n",
       "0  CN(c1ccc(NC(=O)Nc2ccccc2)cc1)S(=O)(=O)c1ccc(-c...  0.000771  0.000772   \n",
       "1                        CC(O)CC(C)C#COC#CC(C)CC(C)O  0.001267  0.001275   \n",
       "2  Cc1cc([N+](=O)[O-])ccc1NC(=O)c1ccc(OCC(C)C)c(B...  0.000540  0.000540   \n",
       "3  COC12C(COC(N)=O)C3=C(C(=O)C(C)=C(N)C3=O)N1CC1NC12  0.001041  0.001044   \n",
       "4  CC(C)(O)C(NC(=O)c1cnn2cc(C3CC3)cnc12)c1ccc(OC(...  0.000721  0.000727   \n",
       "\n",
       "        404       406       408       410       412       414       416  ...  \\\n",
       "0  0.000774  0.000785  0.000792  0.000797  0.000800  0.000809  0.000812  ...   \n",
       "1  0.001275  0.001290  0.001292  0.001303  0.001306  0.001320  0.001335  ...   \n",
       "2  0.000540  0.000541  0.000545  0.000547  0.000545  0.000545  0.000548  ...   \n",
       "3  0.001044  0.001053  0.001056  0.001063  0.001061  0.001069  0.001074  ...   \n",
       "4  0.000726  0.000733  0.000737  0.000743  0.000745  0.000748  0.000760  ...   \n",
       "\n",
       "       3982      3984      3986      3988      3990      3992      3994  \\\n",
       "0  0.000774  0.000786  0.000803  0.000780  0.000782  0.000776  0.000770   \n",
       "1  0.001032  0.001046  0.001065  0.001040  0.001047  0.001011  0.001003   \n",
       "2  0.000462  0.000465  0.000453  0.000481  0.000469  0.000452  0.000458   \n",
       "3  0.001045  0.001055  0.001057  0.001063  0.001051  0.001031  0.001030   \n",
       "4  0.000649  0.000653  0.000655  0.000656  0.000650  0.000636  0.000633   \n",
       "\n",
       "       3996      3998      4000  \n",
       "0  0.000765  0.000764  0.000767  \n",
       "1  0.001020  0.001040  0.000981  \n",
       "2  0.000458  0.000465  0.000448  \n",
       "3  0.001023  0.001026  0.001022  \n",
       "4  0.000632  0.000635  0.000628  \n",
       "\n",
       "[5 rows x 1802 columns]"
      ]
     },
     "execution_count": 7,
     "metadata": {},
     "output_type": "execute_result"
    }
   ],
   "source": [
    "data_df.head()"
   ]
  },
  {
   "cell_type": "code",
   "execution_count": 8,
   "id": "97636da0",
   "metadata": {},
   "outputs": [
    {
     "name": "stdout",
     "output_type": "stream",
     "text": [
      "There are 0 duplicated SMILES...\n"
     ]
    }
   ],
   "source": [
    "nb_duplicates = data_df.duplicated(subset=['smiles']).sum()\n",
    "\n",
    "print(f\"There are {nb_duplicates} duplicated SMILES...\")"
   ]
  },
  {
   "cell_type": "code",
   "execution_count": 10,
   "id": "c8ac5a2b",
   "metadata": {},
   "outputs": [
    {
     "data": {
      "text/html": [
       "<div>\n",
       "<style scoped>\n",
       "    .dataframe tbody tr th:only-of-type {\n",
       "        vertical-align: middle;\n",
       "    }\n",
       "\n",
       "    .dataframe tbody tr th {\n",
       "        vertical-align: top;\n",
       "    }\n",
       "\n",
       "    .dataframe thead th {\n",
       "        text-align: right;\n",
       "    }\n",
       "</style>\n",
       "<table border=\"1\" class=\"dataframe\">\n",
       "  <thead>\n",
       "    <tr style=\"text-align: right;\">\n",
       "      <th></th>\n",
       "      <th>smiles</th>\n",
       "      <th>400</th>\n",
       "      <th>402</th>\n",
       "      <th>404</th>\n",
       "      <th>406</th>\n",
       "      <th>408</th>\n",
       "      <th>410</th>\n",
       "      <th>412</th>\n",
       "      <th>414</th>\n",
       "      <th>416</th>\n",
       "      <th>...</th>\n",
       "      <th>3982</th>\n",
       "      <th>3984</th>\n",
       "      <th>3986</th>\n",
       "      <th>3988</th>\n",
       "      <th>3990</th>\n",
       "      <th>3992</th>\n",
       "      <th>3994</th>\n",
       "      <th>3996</th>\n",
       "      <th>3998</th>\n",
       "      <th>4000</th>\n",
       "    </tr>\n",
       "  </thead>\n",
       "  <tbody>\n",
       "    <tr>\n",
       "      <th>1</th>\n",
       "      <td>CC(O)CC(C)C#COC#CC(C)CC(C)O</td>\n",
       "      <td>0.001267</td>\n",
       "      <td>0.001275</td>\n",
       "      <td>0.001275</td>\n",
       "      <td>0.00129</td>\n",
       "      <td>0.001292</td>\n",
       "      <td>0.001303</td>\n",
       "      <td>0.001306</td>\n",
       "      <td>0.00132</td>\n",
       "      <td>0.001335</td>\n",
       "      <td>...</td>\n",
       "      <td>0.001032</td>\n",
       "      <td>0.001046</td>\n",
       "      <td>0.001065</td>\n",
       "      <td>0.00104</td>\n",
       "      <td>0.001047</td>\n",
       "      <td>0.001011</td>\n",
       "      <td>0.001003</td>\n",
       "      <td>0.00102</td>\n",
       "      <td>0.00104</td>\n",
       "      <td>0.000981</td>\n",
       "    </tr>\n",
       "  </tbody>\n",
       "</table>\n",
       "<p>1 rows × 1802 columns</p>\n",
       "</div>"
      ],
      "text/plain": [
       "                        smiles       400       402       404      406  \\\n",
       "1  CC(O)CC(C)C#COC#CC(C)CC(C)O  0.001267  0.001275  0.001275  0.00129   \n",
       "\n",
       "        408       410       412      414       416  ...      3982      3984  \\\n",
       "1  0.001292  0.001303  0.001306  0.00132  0.001335  ...  0.001032  0.001046   \n",
       "\n",
       "       3986     3988      3990      3992      3994     3996     3998      4000  \n",
       "1  0.001065  0.00104  0.001047  0.001011  0.001003  0.00102  0.00104  0.000981  \n",
       "\n",
       "[1 rows x 1802 columns]"
      ]
     },
     "execution_count": 10,
     "metadata": {},
     "output_type": "execute_result"
    }
   ],
   "source": [
    "# example of a duplicated smiles check\n",
    "\n",
    "data_df[data_df.smiles == \"CC(O)CC(C)C#COC#CC(C)CC(C)O\"]"
   ]
  },
  {
   "cell_type": "markdown",
   "id": "b3e63dd2-130e-4d4b-af65-3788b4506c98",
   "metadata": {},
   "source": [
    "## Create datasets"
   ]
  },
  {
   "cell_type": "code",
   "execution_count": 11,
   "id": "8e3c6cab-0d9e-4891-b8ab-6cec9d3bb163",
   "metadata": {
    "tags": []
   },
   "outputs": [],
   "source": [
    "def merge_columns(row, suffix=None):\n",
    "    \n",
    "    if suffix == \"comp\":\n",
    "        \n",
    "        return row.values[1:]\n",
    "    \n",
    "    if suffix == \"exp\":\n",
    "        \n",
    "        return row.values[3:]"
   ]
  },
  {
   "cell_type": "code",
   "execution_count": 12,
   "id": "3c74a68b-3c27-4e4d-9484-95c769c9c1a2",
   "metadata": {
    "tags": []
   },
   "outputs": [],
   "source": [
    "data_df[\"spectrum\"] = data_df.apply(lambda row : merge_columns(row, suffix=suffix), axis=1)\n",
    "data_df[\"spectrum\"] = data_df[\"spectrum\"].astype('object')"
   ]
  },
  {
   "cell_type": "code",
   "execution_count": 13,
   "id": "5ae62e86-cc2e-45e8-ab46-329fc96d5d42",
   "metadata": {
    "tags": []
   },
   "outputs": [],
   "source": [
    "cols = [str(i) for i in range(400, 4001, 2)]\n",
    "\n",
    "data_df = data_df.drop(cols, axis=1)"
   ]
  },
  {
   "cell_type": "code",
   "execution_count": 14,
   "id": "18f8b50b-202f-4f64-89f8-0360f3cc4cfc",
   "metadata": {
    "tags": []
   },
   "outputs": [
    {
     "data": {
      "text/html": [
       "<div>\n",
       "<style scoped>\n",
       "    .dataframe tbody tr th:only-of-type {\n",
       "        vertical-align: middle;\n",
       "    }\n",
       "\n",
       "    .dataframe tbody tr th {\n",
       "        vertical-align: top;\n",
       "    }\n",
       "\n",
       "    .dataframe thead th {\n",
       "        text-align: right;\n",
       "    }\n",
       "</style>\n",
       "<table border=\"1\" class=\"dataframe\">\n",
       "  <thead>\n",
       "    <tr style=\"text-align: right;\">\n",
       "      <th></th>\n",
       "      <th>smiles</th>\n",
       "      <th>spectrum</th>\n",
       "    </tr>\n",
       "  </thead>\n",
       "  <tbody>\n",
       "    <tr>\n",
       "      <th>0</th>\n",
       "      <td>CN(c1ccc(NC(=O)Nc2ccccc2)cc1)S(=O)(=O)c1ccc(-c...</td>\n",
       "      <td>[0.00077128662946, 0.0007723908046661, 0.00077...</td>\n",
       "    </tr>\n",
       "    <tr>\n",
       "      <th>1</th>\n",
       "      <td>CC(O)CC(C)C#COC#CC(C)CC(C)O</td>\n",
       "      <td>[0.0012672731579614, 0.0012754371856457, 0.001...</td>\n",
       "    </tr>\n",
       "    <tr>\n",
       "      <th>2</th>\n",
       "      <td>Cc1cc([N+](=O)[O-])ccc1NC(=O)c1ccc(OCC(C)C)c(B...</td>\n",
       "      <td>[0.0005397718196235, 0.0005399335558759, 0.000...</td>\n",
       "    </tr>\n",
       "    <tr>\n",
       "      <th>3</th>\n",
       "      <td>COC12C(COC(N)=O)C3=C(C(=O)C(C)=C(N)C3=O)N1CC1NC12</td>\n",
       "      <td>[0.0010406140569326, 0.0010441971359375, 0.001...</td>\n",
       "    </tr>\n",
       "    <tr>\n",
       "      <th>4</th>\n",
       "      <td>CC(C)(O)C(NC(=O)c1cnn2cc(C3CC3)cnc12)c1ccc(OC(...</td>\n",
       "      <td>[0.0007211904058253, 0.0007266133409325, 0.000...</td>\n",
       "    </tr>\n",
       "  </tbody>\n",
       "</table>\n",
       "</div>"
      ],
      "text/plain": [
       "                                              smiles  \\\n",
       "0  CN(c1ccc(NC(=O)Nc2ccccc2)cc1)S(=O)(=O)c1ccc(-c...   \n",
       "1                        CC(O)CC(C)C#COC#CC(C)CC(C)O   \n",
       "2  Cc1cc([N+](=O)[O-])ccc1NC(=O)c1ccc(OCC(C)C)c(B...   \n",
       "3  COC12C(COC(N)=O)C3=C(C(=O)C(C)=C(N)C3=O)N1CC1NC12   \n",
       "4  CC(C)(O)C(NC(=O)c1cnn2cc(C3CC3)cnc12)c1ccc(OC(...   \n",
       "\n",
       "                                            spectrum  \n",
       "0  [0.00077128662946, 0.0007723908046661, 0.00077...  \n",
       "1  [0.0012672731579614, 0.0012754371856457, 0.001...  \n",
       "2  [0.0005397718196235, 0.0005399335558759, 0.000...  \n",
       "3  [0.0010406140569326, 0.0010441971359375, 0.001...  \n",
       "4  [0.0007211904058253, 0.0007266133409325, 0.000...  "
      ]
     },
     "execution_count": 14,
     "metadata": {},
     "output_type": "execute_result"
    }
   ],
   "source": [
    "data_df.head()"
   ]
  },
  {
   "cell_type": "code",
   "execution_count": 15,
   "id": "258fb217",
   "metadata": {},
   "outputs": [
    {
     "data": {
      "text/plain": [
       "(85506, 1801)"
      ]
     },
     "execution_count": 15,
     "metadata": {},
     "output_type": "execute_result"
    }
   ],
   "source": [
    "len(data_df), len(data_df.iloc[0][\"spectrum\"])"
   ]
  },
  {
   "cell_type": "code",
   "execution_count": 16,
   "id": "c83e8468",
   "metadata": {},
   "outputs": [],
   "source": [
    "if suffix == \"comp\":\n",
    "\n",
    "    # for computed spectra\n",
    "    train_df, test_df = train_test_split(data_df, test_size=0.2, random_state=42, shuffle=True)\n",
    "    test_df, val_df = train_test_split(test_df, test_size=0.5, random_state=42, shuffle=True)\n",
    "\n",
    "elif suffix == \"exp\":\n",
    "    \n",
    "    # for experimental spectra (takes time...)\n",
    "    data_df_1 = data_df[(data_df[\"base\"] == 1) & (data_df[\"shift\"] == 0)]\n",
    "    data_df_2 = data_df[(data_df[\"base\"] == 0) & (data_df[\"shift\"] == 1)]\n",
    "\n",
    "    print(len(data_df_1), len(data_df_2))\n",
    "\n",
    "    train_df, test_df = train_test_split(data_df_1, test_size=0.2, random_state=42, shuffle=True)\n",
    "    test_df, val_df = train_test_split(test_df, test_size=0.5, random_state=42, shuffle=True)\n",
    "\n",
    "    print(len(train_df), len(test_df), len(val_df))\n",
    "\n",
    "    for i, r in data_df_2.iterrows():\n",
    "\n",
    "        if r[\"smiles\"] in train_df['smiles'].unique():\n",
    "\n",
    "            train_df = pd.concat([train_df, pd.DataFrame([r])], ignore_index=True)\n",
    "\n",
    "        elif r[\"smiles\"] in test_df['smiles'].unique():\n",
    "\n",
    "            test_df = pd.concat([test_df, pd.DataFrame([r])], ignore_index=True)\n",
    "\n",
    "        elif r[\"smiles\"] in val_df['smiles'].unique():\n",
    "\n",
    "            val_df = pd.concat([val_df, pd.DataFrame([r])], ignore_index=True)"
   ]
  },
  {
   "cell_type": "code",
   "execution_count": 17,
   "id": "88109880-3432-46b0-b078-4ca09bb35c11",
   "metadata": {
    "tags": []
   },
   "outputs": [
    {
     "data": {
      "text/plain": [
       "((68404, 2), (8551, 2), (8551, 2))"
      ]
     },
     "execution_count": 17,
     "metadata": {},
     "output_type": "execute_result"
    }
   ],
   "source": [
    "train_df.shape, test_df.shape, val_df.shape"
   ]
  },
  {
   "cell_type": "code",
   "execution_count": 18,
   "id": "72683e7b",
   "metadata": {},
   "outputs": [],
   "source": [
    "# re-shuffle datasets\n",
    "\n",
    "train_df = train_df.sample(frac = 1, random_state=42)\n",
    "test_df = test_df.sample(frac = 1, random_state=42)\n",
    "val_df = val_df.sample(frac = 1, random_state=42)"
   ]
  },
  {
   "cell_type": "code",
   "execution_count": 19,
   "id": "0e577dca",
   "metadata": {
    "scrolled": true
   },
   "outputs": [
    {
     "name": "stdout",
     "output_type": "stream",
     "text": [
      "{1}\n",
      "{1}\n",
      "{1}\n"
     ]
    },
    {
     "data": {
      "text/plain": [
       "(0, 0, 0)"
      ]
     },
     "execution_count": 19,
     "metadata": {},
     "output_type": "execute_result"
    }
   ],
   "source": [
    "# sanity checks\n",
    "\n",
    "print(set(train_df.smiles.value_counts().values))\n",
    "print(set(test_df.smiles.value_counts().values))\n",
    "print(set(val_df.smiles.value_counts().values))\n",
    "\n",
    "train_df.duplicated(subset=['smiles']).sum(), test_df.duplicated(subset=['smiles']).sum(), val_df.duplicated(subset=['smiles']).sum()"
   ]
  },
  {
   "cell_type": "markdown",
   "id": "f3754ecf",
   "metadata": {},
   "source": [
    "## Check normalization to unitiy in the 500-1500 cm-1 region\n",
    "\n",
    "\"To promote consistent scaling across data sources and phases in model inputs and model predictions, normalization was carried out so that values in the fingerprint region (500−1500 cm−1) sum to unity. The normalization considering the fingerprint region is distinct from the whole-spectrum normalization that is required for loss function calculations as discussed later. Computed spectra were constructed with the same bounds, data spacing, and scaling.\"\n",
    "\n",
    "**(McGill et al. 2021, p.2)**"
   ]
  },
  {
   "cell_type": "code",
   "execution_count": 30,
   "id": "98cd0e8b",
   "metadata": {},
   "outputs": [
    {
     "data": {
      "text/plain": [
       "[<matplotlib.lines.Line2D at 0x7fd6f2cb7100>]"
      ]
     },
     "execution_count": 30,
     "metadata": {},
     "output_type": "execute_result"
    },
    {
     "data": {
      "image/png": "[encoded data removed]",
      "text/plain": [
       "<Figure size 432x288 with 1 Axes>"
      ]
     },
     "metadata": {
      "needs_background": "light"
     },
     "output_type": "display_data"
    }
   ],
   "source": [
    "xs = range(400, 4001, 2)\n",
    "\n",
    "plt.plot(xs, train_df.iloc[456].spectrum)"
   ]
  },
  {
   "cell_type": "code",
   "execution_count": 31,
   "id": "06fca396",
   "metadata": {},
   "outputs": [],
   "source": [
    "def extact_region(spectrum , lb=500, ub=1500):\n",
    "    \"\"\"\n",
    "    Extract the region 500−1500 cm−1 of a spectrum\n",
    "    \"\"\"\n",
    "    \n",
    "    lb_ = list(range(400, 4001, 2)).index(lb)\n",
    "    ub_ = list(range(400, 4001, 2)).index(ub)\n",
    "    \n",
    "    return spectrum[lb_: ub_]"
   ]
  },
  {
   "cell_type": "code",
   "execution_count": 32,
   "id": "0640d3d6",
   "metadata": {},
   "outputs": [
    {
     "data": {
      "text/plain": [
       "[<matplotlib.lines.Line2D at 0x7fd6f3a549a0>]"
      ]
     },
     "execution_count": 32,
     "metadata": {},
     "output_type": "execute_result"
    },
    {
     "data": {
      "image/png": "[encoded data removed]",
      "text/plain": [
       "<Figure size 432x288 with 1 Axes>"
      ]
     },
     "metadata": {
      "needs_background": "light"
     },
     "output_type": "display_data"
    }
   ],
   "source": [
    "spectrum = train_df.iloc[456].spectrum\n",
    "region  = extact_region(spectrum , lb=500, ub=1500)\n",
    "\n",
    "xs = range(500, 1500, 2)\n",
    "\n",
    "plt.plot(xs, region)"
   ]
  },
  {
   "cell_type": "code",
   "execution_count": 33,
   "id": "7fc4609c",
   "metadata": {},
   "outputs": [
    {
     "name": "stdout",
     "output_type": "stream",
     "text": [
      "computed AUC using np.trapz: 0.9978024396368571\n"
     ]
    }
   ],
   "source": [
    "# compute area under curve to check normalization\n",
    "\n",
    "dx = 1\n",
    "xx = range(len(region))\n",
    "yy = region\n",
    "\n",
    "print('computed AUC using np.trapz: {}'.format(np.trapz(yy, dx=dx)))"
   ]
  },
  {
   "cell_type": "markdown",
   "id": "36b67ccc",
   "metadata": {},
   "source": [
    "**Spectra are correcltly normalized, no modification needed.**"
   ]
  },
  {
   "cell_type": "markdown",
   "id": "c484c73a-6921-4747-8251-e731be4f3e9b",
   "metadata": {},
   "source": [
    "## Save datasets (csv and hf)"
   ]
  },
  {
   "cell_type": "markdown",
   "id": "b3b7be30-8047-4cc3-9866-088aea877875",
   "metadata": {
    "tags": []
   },
   "source": [
    "**Format csv**"
   ]
  },
  {
   "cell_type": "code",
   "execution_count": 20,
   "id": "cec29919-43a2-429b-9e4a-659cc194e726",
   "metadata": {
    "tags": []
   },
   "outputs": [
    {
     "data": {
      "text/plain": [
       "['train_exp.csv',\n",
       " 'test_comp.csv',\n",
       " 'test_comp.hf',\n",
       " 'val_exp.csv',\n",
       " 'val_comp.csv',\n",
       " 'val_exp.hf',\n",
       " 'val_comp.hf',\n",
       " 'train_exp.hf',\n",
       " 'test_exp.csv',\n",
       " 'train_comp.csv',\n",
       " 'train_comp.hf',\n",
       " 'test_exp.hf']"
      ]
     },
     "execution_count": 20,
     "metadata": {},
     "output_type": "execute_result"
    }
   ],
   "source": [
    "data_folder = \"/storage/smiles2spec_data\"\n",
    "\n",
    "os.listdir(data_folder)"
   ]
  },
  {
   "cell_type": "code",
   "execution_count": null,
   "id": "d03c0d51-ea99-4247-be3e-e00bae770c95",
   "metadata": {
    "tags": []
   },
   "outputs": [],
   "source": [
    "train_df.to_csv(os.path.join(data_folder, f\"train_{suffix}.csv\"), index=False)\n",
    "test_df.to_csv(os.path.join(data_folder, f\"test_{suffix}.csv\"), index=False)\n",
    "val_df.to_csv(os.path.join(data_folder, f\"val_{suffix}.csv\"), index=False)"
   ]
  },
  {
   "cell_type": "markdown",
   "id": "72c7b543-bb21-410e-a512-1dc4b4838f89",
   "metadata": {
    "tags": []
   },
   "source": [
    "**Format hf (Hugging Face)**"
   ]
  },
  {
   "cell_type": "code",
   "execution_count": 21,
   "id": "59324fe2-33cc-4e9a-8eda-35e2c855419f",
   "metadata": {
    "tags": []
   },
   "outputs": [],
   "source": [
    "# load data if needed\n",
    "suffix = \"exp\"\n",
    "\n",
    "train_df = pd.read_csv(os.path.join(data_folder, f\"train_{suffix}.csv\"))\n",
    "test_df = pd.read_csv(os.path.join(data_folder, f\"test_{suffix}.csv\"))\n",
    "val_df = pd.read_csv(os.path.join(data_folder, f\"val_{suffix}.csv\"))"
   ]
  },
  {
   "cell_type": "code",
   "execution_count": 22,
   "id": "9c46a35d-465c-485d-8164-cf2acbe0089b",
   "metadata": {
    "tags": []
   },
   "outputs": [],
   "source": [
    "# Convert to hf datasets\n",
    "train_hf = datasets.Dataset.from_pandas(train_df, split='train', preserve_index=False)\n",
    "test_hf = datasets.Dataset.from_pandas(test_df, split='test', preserve_index=False)\n",
    "val_hf = datasets.Dataset.from_pandas(val_df, split='eval', preserve_index=False)"
   ]
  },
  {
   "cell_type": "code",
   "execution_count": 23,
   "id": "63128d48-b282-485a-a190-0806311a10c1",
   "metadata": {},
   "outputs": [],
   "source": [
    "# Convert spectra to list of floats\n",
    "def convert_spectrum(sample):\n",
    "\n",
    "    sample[\"spectrum\"] = ast.literal_eval(sample[\"spectrum\"])\n",
    "\n",
    "    return sample"
   ]
  },
  {
   "cell_type": "code",
   "execution_count": 24,
   "id": "892818ef-c0ec-48c2-aef9-02aba9b29e6c",
   "metadata": {},
   "outputs": [
    {
     "data": {
      "application/vnd.jupyter.widget-view+json": {
       "model_id": "9df5cbd0c2c6444f8ce24aaa2ad4ac36",
       "version_major": 2,
       "version_minor": 0
      },
      "text/plain": [
       "  0%|          | 0/48000 [00:00<?, ?ex/s]"
      ]
     },
     "metadata": {},
     "output_type": "display_data"
    },
    {
     "data": {
      "application/vnd.jupyter.widget-view+json": {
       "model_id": "a5d4eba8ec1543f4ae51d9bf5ff6c1f6",
       "version_major": 2,
       "version_minor": 0
      },
      "text/plain": [
       "  0%|          | 0/6000 [00:00<?, ?ex/s]"
      ]
     },
     "metadata": {},
     "output_type": "display_data"
    },
    {
     "data": {
      "application/vnd.jupyter.widget-view+json": {
       "model_id": "c4d3a990d60447bc808a7eec2598ac74",
       "version_major": 2,
       "version_minor": 0
      },
      "text/plain": [
       "  0%|          | 0/6000 [00:00<?, ?ex/s]"
      ]
     },
     "metadata": {},
     "output_type": "display_data"
    }
   ],
   "source": [
    "train_hf = train_hf.map(convert_spectrum)\n",
    "test_hf = test_hf.map(convert_spectrum)\n",
    "val_hf = val_hf.map(convert_spectrum)"
   ]
  },
  {
   "cell_type": "code",
   "execution_count": 25,
   "id": "6cf594c1-b1fb-419d-ad28-35dc6c9c80de",
   "metadata": {},
   "outputs": [
    {
     "data": {
      "text/plain": [
       "(Dataset({\n",
       "     features: ['base', 'shift', 'smiles', 'spectrum'],\n",
       "     num_rows: 48000\n",
       " }),\n",
       " Dataset({\n",
       "     features: ['base', 'shift', 'smiles', 'spectrum'],\n",
       "     num_rows: 6000\n",
       " }),\n",
       " Dataset({\n",
       "     features: ['base', 'shift', 'smiles', 'spectrum'],\n",
       "     num_rows: 6000\n",
       " }))"
      ]
     },
     "execution_count": 25,
     "metadata": {},
     "output_type": "execute_result"
    }
   ],
   "source": [
    "train_hf, test_hf, val_hf"
   ]
  },
  {
   "cell_type": "code",
   "execution_count": 26,
   "id": "6186a4a4-b09d-4d9f-9b79-84eeee1b4aa5",
   "metadata": {},
   "outputs": [
    {
     "data": {
      "text/plain": [
       "list"
      ]
     },
     "execution_count": 26,
     "metadata": {},
     "output_type": "execute_result"
    }
   ],
   "source": [
    "type(val_hf[0][\"spectrum\"])"
   ]
  },
  {
   "cell_type": "code",
   "execution_count": 27,
   "id": "28a5d6c6-0690-44ff-bac9-9ac07df4db6e",
   "metadata": {
    "tags": []
   },
   "outputs": [],
   "source": [
    "# Save hf datasets\n",
    "train_hf.save_to_disk(os.path.join(data_folder, f\"train_{suffix}.hf\"))\n",
    "test_hf.save_to_disk(os.path.join(data_folder, f\"test_{suffix}.hf\"))\n",
    "val_hf.save_to_disk(os.path.join(data_folder, f\"val_{suffix}.hf\"))"
   ]
  },
  {
   "cell_type": "code",
   "execution_count": 28,
   "id": "424a2c9f-fcfb-4595-a91f-4b00539fc02c",
   "metadata": {
    "tags": []
   },
   "outputs": [],
   "source": [
    "# load dataset\n",
    "# test_hf = datasets.load_from_disk(os.path.join(data_folder, \"test_exp.hf\"))"
   ]
  },
  {
   "cell_type": "code",
   "execution_count": 31,
   "id": "45972c93-a8dd-472f-b5b4-e34469fd440a",
   "metadata": {
    "tags": []
   },
   "outputs": [],
   "source": [
    "# test_hf"
   ]
  },
  {
   "cell_type": "code",
   "execution_count": 32,
   "id": "424fb349-2d69-47b5-95b1-4ef3ea40992d",
   "metadata": {
    "tags": []
   },
   "outputs": [],
   "source": [
    "# type(test_hf[0][\"spectrum\"])"
   ]
  },
  {
   "cell_type": "code",
   "execution_count": null,
   "id": "236285c7-4b19-4ddb-ae39-c2f772695afd",
   "metadata": {},
   "outputs": [],
   "source": []
  }
 ],
 "metadata": {
  "kernelspec": {
   "display_name": "Python 3 (ipykernel)",
   "language": "python",
   "name": "python3"
  },
  "language_info": {
   "codemirror_mode": {
    "name": "ipython",
    "version": 3
   },
   "file_extension": ".py",
   "mimetype": "text/x-python",
   "name": "python",
   "nbconvert_exporter": "python",
   "pygments_lexer": "ipython3",
   "version": "3.9.16"
  }
 },
 "nbformat": 4,
 "nbformat_minor": 5
}
