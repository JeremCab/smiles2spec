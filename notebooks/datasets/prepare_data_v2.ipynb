{
 "cells": [
  {
   "cell_type": "markdown",
   "id": "227f3553-2fe0-4491-b1ce-057794d1a566",
   "metadata": {},
   "source": [
    "# Prepare datasets\n"
   ]
  },
  {
   "cell_type": "markdown",
   "id": "ada0901f",
   "metadata": {},
   "source": [
    "This notebook prepares the datasets according to the data available at:<br>\n",
    "https://github.com/gfm-collab/chemprop-IR?tab=readme-ov-file\n",
    "\n",
    "In this case, we compute and add the SELFIES associated to the SMILES in the datasets.\n",
    "\n",
    "For this purpose, we use the `selfies` library:<br>\n",
    "https://selfies.readthedocs.io/en/latest/index.html"
   ]
  },
  {
   "cell_type": "markdown",
   "id": "f30a3d27-74e2-4ddf-b1f9-9fc3caed32ba",
   "metadata": {},
   "source": [
    "## Libraries\n"
   ]
  },
  {
   "cell_type": "code",
   "execution_count": 4,
   "id": "b972feba",
   "metadata": {
    "tags": []
   },
   "outputs": [],
   "source": [
    "# !pip install -U transformers\n",
    "# !pip install -U datasets\n",
    "# !pip install -U huggingface_hub\n",
    "# !pip install selfies"
   ]
  },
  {
   "cell_type": "code",
   "execution_count": 5,
   "id": "68cf8776-943f-4538-bcdb-c649688c2cc0",
   "metadata": {
    "tags": []
   },
   "outputs": [],
   "source": [
    "import os\n",
    "\n",
    "import ast\n",
    "\n",
    "import numpy as np\n",
    "import pandas as pd\n",
    "\n",
    "from sklearn.model_selection import train_test_split\n",
    "\n",
    "import datasets\n",
    "\n",
    "import selfies as sf\n",
    "\n",
    "import matplotlib.pyplot as plt"
   ]
  },
  {
   "cell_type": "markdown",
   "id": "cd7aae31-0dbc-410f-bb4e-af480c000a0b",
   "metadata": {
    "tags": []
   },
   "source": [
    "## Load data"
   ]
  },
  {
   "cell_type": "markdown",
   "id": "29b3e86c",
   "metadata": {},
   "source": [
    "The csv files can be downloaded at the following address : https://github.com/gfm-collab/chemprop-IR?tab=readme-ov-file#data\n"
   ]
  },
  {
   "cell_type": "code",
   "execution_count": 6,
   "id": "91821900-0b15-4de2-b9d0-778b637331c3",
   "metadata": {
    "tags": []
   },
   "outputs": [],
   "source": [
    "data_folder = \"/storage/smiles2spec_data\" # Dataset Folder PATH \n",
    "\n",
    "# computed spectra or experimental spectra\n",
    "suffix = \"exp\" # comp, exp"
   ]
  },
  {
   "cell_type": "code",
   "execution_count": 8,
   "id": "59eb2db0-009a-4679-b42f-1ba79b34cdfd",
   "metadata": {},
   "outputs": [],
   "source": [
    "train_hf = datasets.load_from_disk(os.path.join(data_folder, f\"train_{suffix}.hf\"))\n",
    "val_hf = datasets.load_from_disk(os.path.join(data_folder, f\"val_{suffix}.hf\"))\n",
    "test_hf = datasets.load_from_disk(os.path.join(data_folder, f\"test_{suffix}.hf\"))"
   ]
  },
  {
   "cell_type": "markdown",
   "id": "77964203-2aeb-45f5-91fe-fe30fdf153b5",
   "metadata": {},
   "source": [
    "## Add SELFIES"
   ]
  },
  {
   "cell_type": "code",
   "execution_count": 9,
   "id": "078173e1-2193-48eb-85de-0fa8cdaf4740",
   "metadata": {},
   "outputs": [],
   "source": [
    "def add_selfies(sample):\n",
    "    \n",
    "    try:\n",
    "        sample[\"selfies\"] = sf.encoder(sample[\"smiles\"])\n",
    "    except:\n",
    "        sample[\"selfies\"] = \"error\"\n",
    "\n",
    "    return sample"
   ]
  },
  {
   "cell_type": "code",
   "execution_count": 10,
   "id": "b6e29ce6-4e7b-4274-9c0a-e399ce942281",
   "metadata": {},
   "outputs": [
    {
     "data": {
      "application/vnd.jupyter.widget-view+json": {
       "model_id": "5c7e005856de456e9f1ad6b66a1cbe36",
       "version_major": 2,
       "version_minor": 0
      },
      "text/plain": [
       "  0%|          | 0/6000 [00:00<?, ?ex/s]"
      ]
     },
     "metadata": {},
     "output_type": "display_data"
    }
   ],
   "source": [
    "train_hf = train_hf.map(add_selfies)\n",
    "val_hf = val_hf.map(add_selfies)\n",
    "test_hf = test_hf.map(add_selfies)"
   ]
  },
  {
   "cell_type": "code",
   "execution_count": 17,
   "id": "7d20cb94-8ca5-464b-82f0-90677b06f0f4",
   "metadata": {},
   "outputs": [
    {
     "data": {
      "text/plain": [
       "(0, 0, 0)"
      ]
     },
     "execution_count": 17,
     "metadata": {},
     "output_type": "execute_result"
    }
   ],
   "source": [
    "# checking number of failed SMILES -> SELFIES conversions\n",
    "\n",
    "train_hf[\"selfies\"].count(\"error\"), val_hf[\"selfies\"].count(\"error\"), test_hf[\"selfies\"].count(\"error\")"
   ]
  },
  {
   "cell_type": "code",
   "execution_count": 18,
   "id": "77e4ef10-8754-48c2-a67a-3db466108d92",
   "metadata": {},
   "outputs": [
    {
     "data": {
      "text/plain": [
       "(48000, 6000, 6000)"
      ]
     },
     "execution_count": 18,
     "metadata": {},
     "output_type": "execute_result"
    }
   ],
   "source": [
    "len(train_hf), len(val_hf), len(test_hf)"
   ]
  },
  {
   "cell_type": "code",
   "execution_count": 19,
   "id": "ff1d7b6c-6ac4-4c37-a291-78f9f85181c6",
   "metadata": {},
   "outputs": [
    {
     "data": {
      "application/vnd.jupyter.widget-view+json": {
       "model_id": "f37dbc6a564f4242aaf82a20d23abede",
       "version_major": 2,
       "version_minor": 0
      },
      "text/plain": [
       "Filter:   0%|          | 0/48000 [00:00<?, ? examples/s]"
      ]
     },
     "metadata": {},
     "output_type": "display_data"
    },
    {
     "data": {
      "application/vnd.jupyter.widget-view+json": {
       "model_id": "54ab4d5a9ff34662b4d985edbad84ecf",
       "version_major": 2,
       "version_minor": 0
      },
      "text/plain": [
       "Filter:   0%|          | 0/6000 [00:00<?, ? examples/s]"
      ]
     },
     "metadata": {},
     "output_type": "display_data"
    },
    {
     "data": {
      "application/vnd.jupyter.widget-view+json": {
       "model_id": "3d2b65d073944fa787eb8af2a169fc10",
       "version_major": 2,
       "version_minor": 0
      },
      "text/plain": [
       "Filter:   0%|          | 0/6000 [00:00<?, ? examples/s]"
      ]
     },
     "metadata": {},
     "output_type": "display_data"
    }
   ],
   "source": [
    "# remove corresponding samples\n",
    "\n",
    "train_hf = train_hf.filter(lambda sample: sample['selfies'] != \"error\")\n",
    "val_hf = val_hf.filter(lambda sample: sample['selfies'] != \"error\")\n",
    "test_hf = test_hf.filter(lambda sample: sample['selfies'] != \"error\")"
   ]
  },
  {
   "cell_type": "code",
   "execution_count": 20,
   "id": "e91f1cae-88ef-4551-8df7-79aa0934a15a",
   "metadata": {},
   "outputs": [
    {
     "data": {
      "text/plain": [
       "(48000, 6000, 6000)"
      ]
     },
     "execution_count": 20,
     "metadata": {},
     "output_type": "execute_result"
    }
   ],
   "source": [
    "len(train_hf), len(val_hf), len(test_hf)"
   ]
  },
  {
   "cell_type": "code",
   "execution_count": 17,
   "id": "9bb8dd2e-b698-4071-ab9e-9c4597517b46",
   "metadata": {},
   "outputs": [
    {
     "name": "stdout",
     "output_type": "stream",
     "text": [
      "COC(=O)c1cncc(N2CCN3CCCCC3C2)n1 <class 'str'>\n",
      "[C][O][C][=Branch1][C][=O][C][=C][N][=C][C][Branch1][#C][N][C][C][N][C][C][C][C][C][Ring1][=Branch1][C][Ring1][#Branch2][=N][Ring1][S] <class 'str'>\n"
     ]
    }
   ],
   "source": [
    "print(val_hf[123][\"smiles\"], type(val_hf[123][\"smiles\"]))\n",
    "print(val_hf[123][\"selfies\"], type(val_hf[123][\"smiles\"]))"
   ]
  },
  {
   "cell_type": "markdown",
   "id": "a4a8d4e7-a81e-4983-a7c6-38ecb9d53b0e",
   "metadata": {},
   "source": [
    "## Save datasets"
   ]
  },
  {
   "cell_type": "code",
   "execution_count": 22,
   "id": "74125c6d-3ac7-4a61-a075-bcd91b709cf0",
   "metadata": {},
   "outputs": [
    {
     "data": {
      "application/vnd.jupyter.widget-view+json": {
       "model_id": "37e0d4bd797a4d9686402d67f11edd99",
       "version_major": 2,
       "version_minor": 0
      },
      "text/plain": [
       "Saving the dataset (0/2 shards):   0%|          | 0/48000 [00:00<?, ? examples/s]"
      ]
     },
     "metadata": {},
     "output_type": "display_data"
    },
    {
     "data": {
      "application/vnd.jupyter.widget-view+json": {
       "model_id": "bf1f05cf791d4ae8805c25c7b1b84b52",
       "version_major": 2,
       "version_minor": 0
      },
      "text/plain": [
       "Saving the dataset (0/1 shards):   0%|          | 0/6000 [00:00<?, ? examples/s]"
      ]
     },
     "metadata": {},
     "output_type": "display_data"
    },
    {
     "data": {
      "application/vnd.jupyter.widget-view+json": {
       "model_id": "82b4af5b162347e78cd536e40eccf4c3",
       "version_major": 2,
       "version_minor": 0
      },
      "text/plain": [
       "Saving the dataset (0/1 shards):   0%|          | 0/6000 [00:00<?, ? examples/s]"
      ]
     },
     "metadata": {},
     "output_type": "display_data"
    }
   ],
   "source": [
    "train_hf.save_to_disk(os.path.join(data_folder, f\"train_with_selfies_{suffix}.hf\"))\n",
    "test_hf.save_to_disk(os.path.join(data_folder, f\"test_with_selfies_{suffix}.hf\"))\n",
    "val_hf.save_to_disk(os.path.join(data_folder, f\"val_with_selfies_{suffix}.hf\"))"
   ]
  },
  {
   "cell_type": "code",
   "execution_count": null,
   "id": "0070a578-4a1a-43ce-83ea-23f0a6719c0d",
   "metadata": {},
   "outputs": [],
   "source": []
  }
 ],
 "metadata": {
  "kernelspec": {
   "display_name": "Python 3 (ipykernel)",
   "language": "python",
   "name": "python3"
  },
  "language_info": {
   "codemirror_mode": {
    "name": "ipython",
    "version": 3
   },
   "file_extension": ".py",
   "mimetype": "text/x-python",
   "name": "python",
   "nbconvert_exporter": "python",
   "pygments_lexer": "ipython3",
   "version": "3.9.16"
  }
 },
 "nbformat": 4,
 "nbformat_minor": 5
}
