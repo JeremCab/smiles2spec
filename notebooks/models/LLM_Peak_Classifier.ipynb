{
 "cells": [
  {
   "cell_type": "markdown",
   "metadata": {
    "id": "OSHlAbqzDFDq"
   },
   "source": [
    "# Fine-Tuning ChemBERTa\n"
   ]
  },
  {
   "cell_type": "markdown",
   "metadata": {},
   "source": [
    "https://github.com/seyonechithrananda/bert-loves-chemistry/blob/master/chemberta/examples/ZINC250K_Transfer_Learning_With_HuggingFace_tox21.ipynb\n"
   ]
  },
  {
   "cell_type": "markdown",
   "metadata": {},
   "source": [
    "## Libraries\n"
   ]
  },
  {
   "cell_type": "code",
   "execution_count": 1,
   "metadata": {},
   "outputs": [
    {
     "name": "stderr",
     "output_type": "stream",
     "text": [
      "2024-08-25 05:43:35.167301: E external/local_xla/xla/stream_executor/cuda/cuda_dnn.cc:9261] Unable to register cuDNN factory: Attempting to register factory for plugin cuDNN when one has already been registered\n",
      "2024-08-25 05:43:35.167425: E external/local_xla/xla/stream_executor/cuda/cuda_fft.cc:607] Unable to register cuFFT factory: Attempting to register factory for plugin cuFFT when one has already been registered\n",
      "2024-08-25 05:43:35.295779: E external/local_xla/xla/stream_executor/cuda/cuda_blas.cc:1515] Unable to register cuBLAS factory: Attempting to register factory for plugin cuBLAS when one has already been registered\n",
      "2024-08-25 05:43:35.483776: I tensorflow/core/platform/cpu_feature_guard.cc:182] This TensorFlow binary is optimized to use available CPU instructions in performance-critical operations.\n",
      "To enable the following instructions: AVX2 FMA, in other operations, rebuild TensorFlow with the appropriate compiler flags.\n",
      "2024-08-25 05:43:37.049327: W tensorflow/compiler/tf2tensorrt/utils/py_utils.cc:38] TF-TRT Warning: Could not find TensorRT\n"
     ]
    }
   ],
   "source": [
    "import os\n",
    "import shutil\n",
    "\n",
    "import pickle\n",
    "\n",
    "import numpy as np\n",
    "\n",
    "import torch\n",
    "import torch.nn as nn\n",
    "\n",
    "import pandas as pd\n",
    "\n",
    "import transformers\n",
    "from transformers import Trainer, TrainingArguments\n",
    "from transformers import AutoModelForSequenceClassification\n",
    "from transformers import AutoTokenizer\n",
    "from transformers.modeling_outputs import SequenceClassifierOutput\n",
    "from transformers import EvalPrediction\n",
    "from transformers import DataCollatorWithPadding\n",
    "\n",
    "import datasets\n",
    "from datasets import load_from_disk\n",
    "from datasets import concatenate_datasets\n",
    "\n",
    "\n",
    "import matplotlib.pyplot as plt\n",
    "\n",
    "from scipy.signal import find_peaks\n",
    "\n",
    "from huggingface_hub import login\n",
    "\n",
    "from typing import Optional"
   ]
  },
  {
   "cell_type": "markdown",
   "metadata": {},
   "source": [
    "## Preamble\n"
   ]
  },
  {
   "cell_type": "code",
   "execution_count": 2,
   "metadata": {},
   "outputs": [
    {
     "name": "stdout",
     "output_type": "stream",
     "text": [
      "Dataset: comp\n",
      "Model: DeepChem/ChemBERTa-5M-MTR\n"
     ]
    }
   ],
   "source": [
    "# 1. Choose model\n",
    "MODEL_NAME = \"DeepChem/ChemBERTa-5M-MTR\"\n",
    "MODEL_SUFFIX = MODEL_NAME.split(\"/\")[1]\n",
    "\n",
    "\n",
    "print(f\"Model: {MODEL_NAME}\")"
   ]
  },
  {
   "cell_type": "markdown",
   "metadata": {},
   "source": [
    "## Datasets\n"
   ]
  },
  {
   "cell_type": "code",
   "execution_count": 3,
   "metadata": {
    "tags": []
   },
   "outputs": [],
   "source": [
    "# Dataset folder\n",
    "DATASET_FOLDER_PATH = \"/datasets\""
   ]
  },
  {
   "cell_type": "code",
   "execution_count": 4,
   "metadata": {
    "tags": []
   },
   "outputs": [
    {
     "name": "stderr",
     "output_type": "stream",
     "text": [
      "/usr/local/lib/python3.11/dist-packages/datasets/table.py:1395: FutureWarning: promote has been superseded by promote_options='default'.\n",
      "  block_group = [InMemoryTable(cls._concat_blocks(list(block_group), axis=axis))]\n",
      "/usr/local/lib/python3.11/dist-packages/datasets/table.py:1421: FutureWarning: promote has been superseded by promote_options='default'.\n",
      "  table = cls._concat_blocks(blocks, axis=0)\n"
     ]
    }
   ],
   "source": [
    "## Need to use the keep_in_memory, because the dataset folder is in read-only\n",
    "\n",
    "train_dataset_comp = load_from_disk(os.path.join(DATASET_FOLDER_PATH, \"train_comp\"), keep_in_memory=True)\n",
    "val_dataset_comp = load_from_disk(os.path.join(DATASET_FOLDER_PATH, \"val_comp\"), keep_in_memory=True)\n",
    "test_dataset_comp = load_from_disk(os.path.join(DATASET_FOLDER_PATH, \"test_comp\"), keep_in_memory=True)\n",
    "\n",
    "\n",
    "#Load exp dataset\n",
    "train_dataset_exp = load_from_disk(os.path.join(\"/storage/train_exp.hf\"), keep_in_memory=True)\n",
    "val_dataset_exp = load_from_disk(os.path.join(DATASET_FOLDER_PATH, f\"val_exp\"), keep_in_memory=True)\n",
    "test_dataset_exp = load_from_disk(os.path.join(DATASET_FOLDER_PATH, \"test_exp\"), keep_in_memory=True)"
   ]
  },
  {
   "cell_type": "code",
   "execution_count": 6,
   "metadata": {
    "tags": []
   },
   "outputs": [],
   "source": [
    "train_dataset_comp = train_dataset_comp.rename_column(\"spectrum\", \"labels\")\n",
    "train_dataset_exp = train_dataset_exp.rename_column(\"spectrum\", \"labels\")\n",
    "\n",
    "val_dataset_comp = val_dataset_comp.rename_column(\"spectrum\", \"labels\")\n",
    "val_dataset_exp = val_dataset_exp.rename_column(\"spectrum\", \"labels\")\n",
    "\n",
    "test_dataset_comp = test_dataset_comp.rename_column(\"spectrum\", \"labels\")\n",
    "test_dataset_exp = test_dataset_exp.rename_column(\"spectrum\", \"labels\")"
   ]
  },
  {
   "cell_type": "code",
   "execution_count": 7,
   "metadata": {},
   "outputs": [],
   "source": [
    "def truncate_spectrum(line):\n",
    "\n",
    "    spectrum_truncated = line[\"labels\"][0:800]\n",
    "    line[\"labels\"] = 1000 * np.array(spectrum_truncated)\n",
    "\n",
    "    return line"
   ]
  },
  {
   "cell_type": "code",
   "execution_count": 8,
   "metadata": {},
   "outputs": [
    {
     "data": {
      "application/vnd.jupyter.widget-view+json": {
       "model_id": "bef15d1e4aa741b59b34055a5f91dcaa",
       "version_major": 2,
       "version_minor": 0
      },
      "text/plain": [
       "Map:   0%|          | 0/68404 [00:00<?, ? examples/s]"
      ]
     },
     "metadata": {},
     "output_type": "display_data"
    },
    {
     "data": {
      "application/vnd.jupyter.widget-view+json": {
       "model_id": "703c8f5a1294407faffc1d50f92e2359",
       "version_major": 2,
       "version_minor": 0
      },
      "text/plain": [
       "Map:   0%|          | 0/48000 [00:00<?, ? examples/s]"
      ]
     },
     "metadata": {},
     "output_type": "display_data"
    },
    {
     "data": {
      "application/vnd.jupyter.widget-view+json": {
       "model_id": "8069c64e22ce4574a8390ca5afab16d7",
       "version_major": 2,
       "version_minor": 0
      },
      "text/plain": [
       "Map:   0%|          | 0/8551 [00:00<?, ? examples/s]"
      ]
     },
     "metadata": {},
     "output_type": "display_data"
    },
    {
     "data": {
      "application/vnd.jupyter.widget-view+json": {
       "model_id": "d6b4e637eaf049f68b2fbf83d921bf64",
       "version_major": 2,
       "version_minor": 0
      },
      "text/plain": [
       "Map:   0%|          | 0/6000 [00:00<?, ? examples/s]"
      ]
     },
     "metadata": {},
     "output_type": "display_data"
    },
    {
     "data": {
      "application/vnd.jupyter.widget-view+json": {
       "model_id": "e91dc566c5244ec0b85d6fe6784ce5f5",
       "version_major": 2,
       "version_minor": 0
      },
      "text/plain": [
       "Map:   0%|          | 0/8551 [00:00<?, ? examples/s]"
      ]
     },
     "metadata": {},
     "output_type": "display_data"
    },
    {
     "data": {
      "application/vnd.jupyter.widget-view+json": {
       "model_id": "a77242235c934b3cb307d13699d8db40",
       "version_major": 2,
       "version_minor": 0
      },
      "text/plain": [
       "Map:   0%|          | 0/6000 [00:00<?, ? examples/s]"
      ]
     },
     "metadata": {},
     "output_type": "display_data"
    }
   ],
   "source": [
    "train_dataset_comp = train_dataset_comp.map(truncate_spectrum)\n",
    "train_dataset_exp = train_dataset_exp.map(truncate_spectrum)\n",
    "\n",
    "val_dataset_comp = val_dataset_comp.map(truncate_spectrum)\n",
    "val_dataset_exp = val_dataset_exp.map(truncate_spectrum)\n",
    "\n",
    "test_dataset_comp = test_dataset_comp.map(truncate_spectrum)\n",
    "test_dataset_exp = test_dataset_exp.map(truncate_spectrum)"
   ]
  },
  {
   "cell_type": "markdown",
   "metadata": {},
   "source": [
    "## Tokenizer\n"
   ]
  },
  {
   "cell_type": "code",
   "execution_count": 9,
   "metadata": {
    "tags": []
   },
   "outputs": [],
   "source": [
    "# Models at https://huggingface.co/DeepChem\n",
    "\n",
    "HF_TOKEN = \"\" #HF Login Token goes here\n",
    "\n",
    "model_cache = \"/storage/smiles2spec_models/\""
   ]
  },
  {
   "cell_type": "code",
   "execution_count": 10,
   "metadata": {},
   "outputs": [
    {
     "name": "stdout",
     "output_type": "stream",
     "text": [
      "Token will not been saved to git credential helper. Pass `add_to_git_credential=True` if you want to set the git credential as well.\n",
      "Token is valid (permission: read).\n",
      "Your token has been saved to /root/.cache/huggingface/token\n",
      "Login successful\n"
     ]
    }
   ],
   "source": [
    "login(HF_TOKEN)"
   ]
  },
  {
   "cell_type": "code",
   "execution_count": 11,
   "metadata": {
    "tags": []
   },
   "outputs": [
    {
     "name": "stderr",
     "output_type": "stream",
     "text": [
      "Special tokens have been added in the vocabulary, make sure the associated word embeddings are fine-tuned or trained.\n"
     ]
    }
   ],
   "source": [
    "tokenizer = AutoTokenizer.from_pretrained(MODEL_NAME, cache_dir=model_cache)"
   ]
  },
  {
   "cell_type": "code",
   "execution_count": 12,
   "metadata": {
    "tags": []
   },
   "outputs": [],
   "source": [
    "def tokenize(batch):\n",
    "    \n",
    "    tokens = tokenizer(batch['smiles'])\n",
    "    \n",
    "    return tokens"
   ]
  },
  {
   "cell_type": "code",
   "execution_count": 13,
   "metadata": {
    "tags": []
   },
   "outputs": [
    {
     "data": {
      "application/vnd.jupyter.widget-view+json": {
       "model_id": "76a8a9b0fc7e4630b688d529233037a6",
       "version_major": 2,
       "version_minor": 0
      },
      "text/plain": [
       "Map:   0%|          | 0/68404 [00:00<?, ? examples/s]"
      ]
     },
     "metadata": {},
     "output_type": "display_data"
    },
    {
     "data": {
      "application/vnd.jupyter.widget-view+json": {
       "model_id": "350a6a86f4a541c5af98daf6076bae83",
       "version_major": 2,
       "version_minor": 0
      },
      "text/plain": [
       "Map:   0%|          | 0/48000 [00:00<?, ? examples/s]"
      ]
     },
     "metadata": {},
     "output_type": "display_data"
    },
    {
     "data": {
      "application/vnd.jupyter.widget-view+json": {
       "model_id": "5831340f4e7448e9a295ffcad97e3281",
       "version_major": 2,
       "version_minor": 0
      },
      "text/plain": [
       "Map:   0%|          | 0/8551 [00:00<?, ? examples/s]"
      ]
     },
     "metadata": {},
     "output_type": "display_data"
    },
    {
     "data": {
      "application/vnd.jupyter.widget-view+json": {
       "model_id": "2388b720905c4ca58f084f80a87aed41",
       "version_major": 2,
       "version_minor": 0
      },
      "text/plain": [
       "Map:   0%|          | 0/6000 [00:00<?, ? examples/s]"
      ]
     },
     "metadata": {},
     "output_type": "display_data"
    },
    {
     "data": {
      "application/vnd.jupyter.widget-view+json": {
       "model_id": "1d98f9c58d9a427f912b9282af2db667",
       "version_major": 2,
       "version_minor": 0
      },
      "text/plain": [
       "Map:   0%|          | 0/8551 [00:00<?, ? examples/s]"
      ]
     },
     "metadata": {},
     "output_type": "display_data"
    },
    {
     "data": {
      "application/vnd.jupyter.widget-view+json": {
       "model_id": "a814db54cd9b4bd397fce5ab7e75050e",
       "version_major": 2,
       "version_minor": 0
      },
      "text/plain": [
       "Map:   0%|          | 0/6000 [00:00<?, ? examples/s]"
      ]
     },
     "metadata": {},
     "output_type": "display_data"
    }
   ],
   "source": [
    "train_dataset_comp = train_dataset_comp.map(tokenize, batched=True)\n",
    "train_dataset_exp = train_dataset_exp.map(tokenize, batched=True)\n",
    "\n",
    "val_dataset_comp = val_dataset_comp.map(tokenize, batched=True)\n",
    "val_dataset_exp = val_dataset_exp.map(tokenize, batched=True)\n",
    "\n",
    "test_dataset_comp = test_dataset_comp.map(tokenize, batched=True)\n",
    "test_dataset_exp = test_dataset_exp.map(tokenize, batched=True)"
   ]
  },
  {
   "cell_type": "code",
   "execution_count": 14,
   "metadata": {
    "tags": []
   },
   "outputs": [],
   "source": [
    "train_dataset_comp.set_format('torch')\n",
    "train_dataset_exp.set_format('torch')\n",
    "\n",
    "val_dataset_comp.set_format('torch')\n",
    "val_dataset_exp.set_format('torch')\n",
    "\n",
    "test_dataset_comp.set_format('torch')\n",
    "test_dataset_exp.set_format('torch')"
   ]
  },
  {
   "cell_type": "code",
   "execution_count": 15,
   "metadata": {},
   "outputs": [],
   "source": [
    "def spectrum_peak_classification(line):\n",
    "\n",
    "    spectrum = line['labels']\n",
    "    line['spectrum'] = spectrum\n",
    "    \n",
    "\n",
    "    peaks, properties = find_peaks(spectrum, prominence=0)\n",
    "    peaks_mean, _ = find_peaks(spectrum, prominence= properties['prominences'].mean())\n",
    "\n",
    "    line['labels'] = torch.zeros_like(spectrum, dtype=torch.int64)\n",
    "    line['labels'][peaks_mean] = 1\n",
    "\n",
    "    return line"
   ]
  },
  {
   "cell_type": "code",
   "execution_count": 16,
   "metadata": {},
   "outputs": [
    {
     "data": {
      "application/vnd.jupyter.widget-view+json": {
       "model_id": "8fe31665552a4f2394c1b3699bba2d7b",
       "version_major": 2,
       "version_minor": 0
      },
      "text/plain": [
       "Map:   0%|          | 0/68404 [00:00<?, ? examples/s]"
      ]
     },
     "metadata": {},
     "output_type": "display_data"
    },
    {
     "data": {
      "application/vnd.jupyter.widget-view+json": {
       "model_id": "b38c1e593993454b9247cc682448992e",
       "version_major": 2,
       "version_minor": 0
      },
      "text/plain": [
       "Map:   0%|          | 0/48000 [00:00<?, ? examples/s]"
      ]
     },
     "metadata": {},
     "output_type": "display_data"
    },
    {
     "data": {
      "application/vnd.jupyter.widget-view+json": {
       "model_id": "d8b3c5f9ae334216b88a9f90da7e4969",
       "version_major": 2,
       "version_minor": 0
      },
      "text/plain": [
       "Map:   0%|          | 0/8551 [00:00<?, ? examples/s]"
      ]
     },
     "metadata": {},
     "output_type": "display_data"
    },
    {
     "data": {
      "application/vnd.jupyter.widget-view+json": {
       "model_id": "fe91e0ac0f644676b19f527150f77640",
       "version_major": 2,
       "version_minor": 0
      },
      "text/plain": [
       "Map:   0%|          | 0/6000 [00:00<?, ? examples/s]"
      ]
     },
     "metadata": {},
     "output_type": "display_data"
    },
    {
     "data": {
      "application/vnd.jupyter.widget-view+json": {
       "model_id": "80c1c178b3814908a6ee2b0bb25195bc",
       "version_major": 2,
       "version_minor": 0
      },
      "text/plain": [
       "Map:   0%|          | 0/8551 [00:00<?, ? examples/s]"
      ]
     },
     "metadata": {},
     "output_type": "display_data"
    },
    {
     "data": {
      "application/vnd.jupyter.widget-view+json": {
       "model_id": "285907492ae54026a1f2f9a832da4860",
       "version_major": 2,
       "version_minor": 0
      },
      "text/plain": [
       "Map:   0%|          | 0/6000 [00:00<?, ? examples/s]"
      ]
     },
     "metadata": {},
     "output_type": "display_data"
    }
   ],
   "source": [
    "train_dataset_comp = train_dataset_comp.map(spectrum_peak_classification)\n",
    "train_dataset_exp = train_dataset_exp.map(spectrum_peak_classification)\n",
    "\n",
    "val_dataset_comp = val_dataset_comp.map(spectrum_peak_classification)\n",
    "val_dataset_exp = val_dataset_exp.map(spectrum_peak_classification)\n",
    "\n",
    "test_dataset_comp = test_dataset_comp.map(spectrum_peak_classification)\n",
    "test_dataset_exp = test_dataset_exp.map(spectrum_peak_classification)"
   ]
  },
  {
   "cell_type": "code",
   "execution_count": 17,
   "metadata": {},
   "outputs": [],
   "source": [
    "train_dataset_mix = concatenate_datasets([train_dataset_comp, train_dataset_exp]) # type: ignore\n",
    "val_dataset_mix = concatenate_datasets([val_dataset_comp, val_dataset_exp]) # type: ignore\n",
    "\n",
    "train_dataset = train_dataset_mix.shuffle(seed=42)\n",
    "val_dataset = val_dataset_mix.shuffle(seed=42)"
   ]
  },
  {
   "cell_type": "code",
   "execution_count": 18,
   "metadata": {},
   "outputs": [],
   "source": [
    "train_dataset = train_dataset.remove_columns([\"base\", \"shift\"])\n",
    "val_dataset = val_dataset.remove_columns([\"base\", \"shift\"])\n",
    "test_dataset_exp = test_dataset_exp.remove_columns([\"base\", \"shift\"])"
   ]
  },
  {
   "cell_type": "code",
   "execution_count": 19,
   "metadata": {},
   "outputs": [
    {
     "data": {
      "text/plain": [
       "(Dataset({\n",
       "     features: ['smiles', 'labels', 'input_ids', 'attention_mask', 'spectrum'],\n",
       "     num_rows: 116404\n",
       " }),\n",
       " Dataset({\n",
       "     features: ['smiles', 'labels', 'input_ids', 'attention_mask', 'spectrum'],\n",
       "     num_rows: 14551\n",
       " }),\n",
       " Dataset({\n",
       "     features: ['smiles', 'labels', 'input_ids', 'attention_mask', 'spectrum'],\n",
       "     num_rows: 8551\n",
       " }),\n",
       " Dataset({\n",
       "     features: ['smiles', 'labels', 'input_ids', 'attention_mask', 'spectrum'],\n",
       "     num_rows: 6000\n",
       " }))"
      ]
     },
     "execution_count": 19,
     "metadata": {},
     "output_type": "execute_result"
    }
   ],
   "source": [
    "train_dataset, val_dataset, test_dataset_comp, test_dataset_exp"
   ]
  },
  {
   "cell_type": "markdown",
   "metadata": {},
   "source": [
    "## Base Model\n"
   ]
  },
  {
   "cell_type": "code",
   "execution_count": 20,
   "metadata": {},
   "outputs": [
    {
     "name": "stdout",
     "output_type": "stream",
     "text": [
      "Model Name :  ChemBERTa-5M-MTR\n"
     ]
    }
   ],
   "source": [
    "print(\"Model Name : \", MODEL_SUFFIX)"
   ]
  },
  {
   "cell_type": "code",
   "execution_count": 21,
   "metadata": {
    "tags": []
   },
   "outputs": [
    {
     "data": {
      "application/vnd.jupyter.widget-view+json": {
       "model_id": "b947ebe626ed4d1a9aac0ab34b5f7cd8",
       "version_major": 2,
       "version_minor": 0
      },
      "text/plain": [
       "config.json:   0%|          | 0.00/17.7k [00:00<?, ?B/s]"
      ]
     },
     "metadata": {},
     "output_type": "display_data"
    },
    {
     "data": {
      "application/vnd.jupyter.widget-view+json": {
       "model_id": "9beb87cfb1c6472bb9df04edf1c9d91c",
       "version_major": 2,
       "version_minor": 0
      },
      "text/plain": [
       "pytorch_model.bin:   0%|          | 0.00/14.0M [00:00<?, ?B/s]"
      ]
     },
     "metadata": {},
     "output_type": "display_data"
    },
    {
     "name": "stderr",
     "output_type": "stream",
     "text": [
      "Some weights of RobertaForSequenceClassification were not initialized from the model checkpoint at DeepChem/ChemBERTa-5M-MTR and are newly initialized: ['classifier.dense.weight', 'classifier.out_proj.weight', 'classifier.out_proj.bias', 'classifier.dense.bias']\n",
      "You should probably TRAIN this model on a down-stream task to be able to use it for predictions and inference.\n"
     ]
    }
   ],
   "source": [
    "# model = AutoModel.from_pretrained(model_name, cache_dir=model_cache)\n",
    "model = AutoModelForSequenceClassification.from_pretrained(MODEL_NAME,\n",
    "                                                           num_labels = 800,\n",
    "                                                            problem_type = \"multi_label_classification\"\n",
    "                                                            )"
   ]
  },
  {
   "cell_type": "code",
   "execution_count": 22,
   "metadata": {},
   "outputs": [
    {
     "name": "stdout",
     "output_type": "stream",
     "text": [
      "RobertaForSequenceClassification(\n",
      "  (roberta): RobertaModel(\n",
      "    (embeddings): RobertaEmbeddings(\n",
      "      (word_embeddings): Embedding(600, 384, padding_idx=1)\n",
      "      (position_embeddings): Embedding(515, 384, padding_idx=1)\n",
      "      (token_type_embeddings): Embedding(1, 384)\n",
      "      (LayerNorm): LayerNorm((384,), eps=1e-12, elementwise_affine=True)\n",
      "      (dropout): Dropout(p=0.144, inplace=False)\n",
      "    )\n",
      "    (encoder): RobertaEncoder(\n",
      "      (layer): ModuleList(\n",
      "        (0-2): 3 x RobertaLayer(\n",
      "          (attention): RobertaAttention(\n",
      "            (self): RobertaSelfAttention(\n",
      "              (query): Linear(in_features=384, out_features=384, bias=True)\n",
      "              (key): Linear(in_features=384, out_features=384, bias=True)\n",
      "              (value): Linear(in_features=384, out_features=384, bias=True)\n",
      "              (dropout): Dropout(p=0.109, inplace=False)\n",
      "            )\n",
      "            (output): RobertaSelfOutput(\n",
      "              (dense): Linear(in_features=384, out_features=384, bias=True)\n",
      "              (LayerNorm): LayerNorm((384,), eps=1e-12, elementwise_affine=True)\n",
      "              (dropout): Dropout(p=0.144, inplace=False)\n",
      "            )\n",
      "          )\n",
      "          (intermediate): RobertaIntermediate(\n",
      "            (dense): Linear(in_features=384, out_features=464, bias=True)\n",
      "            (intermediate_act_fn): GELUActivation()\n",
      "          )\n",
      "          (output): RobertaOutput(\n",
      "            (dense): Linear(in_features=464, out_features=384, bias=True)\n",
      "            (LayerNorm): LayerNorm((384,), eps=1e-12, elementwise_affine=True)\n",
      "            (dropout): Dropout(p=0.144, inplace=False)\n",
      "          )\n",
      "        )\n",
      "      )\n",
      "    )\n",
      "  )\n",
      "  (classifier): RobertaClassificationHead(\n",
      "    (dense): Linear(in_features=384, out_features=384, bias=True)\n",
      "    (dropout): Dropout(p=0.144, inplace=False)\n",
      "    (out_proj): Linear(in_features=384, out_features=800, bias=True)\n",
      "  )\n",
      ")\n"
     ]
    }
   ],
   "source": [
    "print(model)"
   ]
  },
  {
   "cell_type": "markdown",
   "metadata": {},
   "source": [
    "## Training\n"
   ]
  },
  {
   "cell_type": "code",
   "execution_count": 27,
   "metadata": {
    "tags": []
   },
   "outputs": [],
   "source": [
    "NB_EPOCHS = 102\n",
    "BATCH_SIZE = 64 # cf. seyonechithrananda\n",
    "RESULTS_FOLDER = os.path.join(model_cache, f\"peak_classification/{MODEL_SUFFIX}\")"
   ]
  },
  {
   "cell_type": "code",
   "execution_count": 28,
   "metadata": {},
   "outputs": [],
   "source": [
    "training_args = TrainingArguments(\n",
    "    f\"peak_detection_{MODEL_SUFFIX}\",\n",
    "    per_device_train_batch_size=BATCH_SIZE,\n",
    "    per_device_eval_batch_size=BATCH_SIZE,\n",
    "    num_train_epochs=NB_EPOCHS,\n",
    "    report_to=\"none\",\n",
    "    remove_unused_columns = True)\n",
    "\n",
    "\n",
    "data_collator = DataCollatorWithPadding(tokenizer)"
   ]
  },
  {
   "cell_type": "code",
   "execution_count": 30,
   "metadata": {},
   "outputs": [],
   "source": [
    "class CustomTrainer(Trainer):\n",
    "\n",
    "    def __init__(self, *args, **kwargs):\n",
    "        super().__init__(*args, **kwargs)\n",
    "   \n",
    "    def compute_loss(self, model, inputs, return_outputs=False):\n",
    "        \n",
    "        labels = inputs.get(\"labels\")\n",
    "        outputs = model(**inputs)\n",
    "        loss_fct = nn.BCEWithLogitsLoss(pos_weight=torch.tensor([15.], device='cuda'))\n",
    "        loss = loss_fct(outputs.logits, labels)\n",
    "        \n",
    "        return (loss, {\"label\": outputs}) if return_outputs else loss"
   ]
  },
  {
   "cell_type": "code",
   "execution_count": 31,
   "metadata": {},
   "outputs": [],
   "source": [
    "trainer = CustomTrainer(\n",
    "    model = model,\n",
    "    args = training_args,\n",
    "    train_dataset = train_dataset, # type: ignore\n",
    "    eval_dataset = val_dataset,\n",
    "    tokenizer=tokenizer,\n",
    "    data_collator = data_collator)"
   ]
  },
  {
   "cell_type": "code",
   "execution_count": 32,
   "metadata": {},
   "outputs": [
    {
     "name": "stderr",
     "output_type": "stream",
     "text": [
      "You're using a RobertaTokenizerFast tokenizer. Please note that with a fast tokenizer, using the `__call__` method is faster than using a method to encode the text followed by a call to the `pad` method to get a padded encoding.\n"
     ]
    },
    {
     "data": {
      "text/html": [
       "\n",
       "    <div>\n",
       "      \n",
       "      <progress value='3638' max='3638' style='width:300px; height:20px; vertical-align: middle;'></progress>\n",
       "      [3638/3638 02:32, Epoch 2/2]\n",
       "    </div>\n",
       "    <table border=\"1\" class=\"dataframe\">\n",
       "  <thead>\n",
       " <tr style=\"text-align: left;\">\n",
       "      <th>Step</th>\n",
       "      <th>Training Loss</th>\n",
       "    </tr>\n",
       "  </thead>\n",
       "  <tbody>\n",
       "    <tr>\n",
       "      <td>500</td>\n",
       "      <td>0.467600</td>\n",
       "    </tr>\n",
       "    <tr>\n",
       "      <td>1000</td>\n",
       "      <td>0.420600</td>\n",
       "    </tr>\n",
       "    <tr>\n",
       "      <td>1500</td>\n",
       "      <td>0.418200</td>\n",
       "    </tr>\n",
       "    <tr>\n",
       "      <td>2000</td>\n",
       "      <td>0.416500</td>\n",
       "    </tr>\n",
       "    <tr>\n",
       "      <td>2500</td>\n",
       "      <td>0.414300</td>\n",
       "    </tr>\n",
       "    <tr>\n",
       "      <td>3000</td>\n",
       "      <td>0.412500</td>\n",
       "    </tr>\n",
       "    <tr>\n",
       "      <td>3500</td>\n",
       "      <td>0.411000</td>\n",
       "    </tr>\n",
       "  </tbody>\n",
       "</table><p>"
      ],
      "text/plain": [
       "<IPython.core.display.HTML object>"
      ]
     },
     "metadata": {},
     "output_type": "display_data"
    },
    {
     "data": {
      "text/plain": [
       "TrainOutput(global_step=3638, training_loss=0.42251972997496584, metrics={'train_runtime': 153.5317, 'train_samples_per_second': 1516.351, 'train_steps_per_second': 23.695, 'total_flos': 350970449250816.0, 'train_loss': 0.42251972997496584, 'epoch': 2.0})"
      ]
     },
     "execution_count": 32,
     "metadata": {},
     "output_type": "execute_result"
    }
   ],
   "source": [
    "trainer.train()"
   ]
  },
  {
   "cell_type": "markdown",
   "metadata": {},
   "source": [
    "## Results\n"
   ]
  },
  {
   "cell_type": "code",
   "execution_count": 34,
   "metadata": {},
   "outputs": [
    {
     "data": {
      "text/plain": [
       "RobertaForSequenceClassification(\n",
       "  (roberta): RobertaModel(\n",
       "    (embeddings): RobertaEmbeddings(\n",
       "      (word_embeddings): Embedding(600, 384, padding_idx=1)\n",
       "      (position_embeddings): Embedding(515, 384, padding_idx=1)\n",
       "      (token_type_embeddings): Embedding(1, 384)\n",
       "      (LayerNorm): LayerNorm((384,), eps=1e-12, elementwise_affine=True)\n",
       "      (dropout): Dropout(p=0.144, inplace=False)\n",
       "    )\n",
       "    (encoder): RobertaEncoder(\n",
       "      (layer): ModuleList(\n",
       "        (0-2): 3 x RobertaLayer(\n",
       "          (attention): RobertaAttention(\n",
       "            (self): RobertaSelfAttention(\n",
       "              (query): Linear(in_features=384, out_features=384, bias=True)\n",
       "              (key): Linear(in_features=384, out_features=384, bias=True)\n",
       "              (value): Linear(in_features=384, out_features=384, bias=True)\n",
       "              (dropout): Dropout(p=0.109, inplace=False)\n",
       "            )\n",
       "            (output): RobertaSelfOutput(\n",
       "              (dense): Linear(in_features=384, out_features=384, bias=True)\n",
       "              (LayerNorm): LayerNorm((384,), eps=1e-12, elementwise_affine=True)\n",
       "              (dropout): Dropout(p=0.144, inplace=False)\n",
       "            )\n",
       "          )\n",
       "          (intermediate): RobertaIntermediate(\n",
       "            (dense): Linear(in_features=384, out_features=464, bias=True)\n",
       "            (intermediate_act_fn): GELUActivation()\n",
       "          )\n",
       "          (output): RobertaOutput(\n",
       "            (dense): Linear(in_features=464, out_features=384, bias=True)\n",
       "            (LayerNorm): LayerNorm((384,), eps=1e-12, elementwise_affine=True)\n",
       "            (dropout): Dropout(p=0.144, inplace=False)\n",
       "          )\n",
       "        )\n",
       "      )\n",
       "    )\n",
       "  )\n",
       "  (classifier): RobertaClassificationHead(\n",
       "    (dense): Linear(in_features=384, out_features=384, bias=True)\n",
       "    (dropout): Dropout(p=0.144, inplace=False)\n",
       "    (out_proj): Linear(in_features=384, out_features=800, bias=True)\n",
       "  )\n",
       ")"
      ]
     },
     "execution_count": 34,
     "metadata": {},
     "output_type": "execute_result"
    }
   ],
   "source": [
    "model.eval()"
   ]
  },
  {
   "cell_type": "code",
   "execution_count": 35,
   "metadata": {},
   "outputs": [],
   "source": [
    "def plot_example(dataset, index, threshold = 0.5):\n",
    "    smile = dataset['smiles'][index]\n",
    "    spectrum = dataset['spectrum'][index]\n",
    "    labels = dataset['labels'][index]\n",
    "\n",
    "    inputs = tokenizer(smile, return_tensors='pt')\n",
    "    inputs = inputs.to(torch.device('cuda'))\n",
    "\n",
    "    logits = model(**inputs).logits.flatten()\n",
    "    probs = torch.sigmoid(logits)\n",
    "\n",
    "    preds = (probs >= threshold).float()\n",
    "\n",
    "    preds_peak_indices = np.where(preds.cpu().numpy() == 1)[0]\n",
    "    labels_peak_indices = np.where(np.array(labels) == 1)[0]\n",
    "    \n",
    "    plt.figure(figsize=(14,5))\n",
    "    plt.plot(spectrum)\n",
    "    plt.plot(preds_peak_indices, np.array(spectrum)[preds_peak_indices], 'x', color='red')\n",
    "    plt.plot(labels_peak_indices, np.array(spectrum)[labels_peak_indices], 'x', color='green')\n",
    "\n",
    "    plt.show()"
   ]
  },
  {
   "cell_type": "code",
   "execution_count": 39,
   "metadata": {},
   "outputs": [
    {
     "name": "stdout",
     "output_type": "stream",
     "text": [
      "tensor([4.9982e-04, 6.0074e-04, 5.2861e-04, 4.2371e-04, 1.0538e-03, 1.0648e-03,\n",
      "        5.5057e-04, 9.3633e-04, 4.4256e-04, 8.6646e-04, 7.2690e-04, 1.0660e-03,\n",
      "        1.1698e-03, 8.0581e-04, 1.3107e-03, 1.3765e-03, 1.8905e-03, 7.9160e-03,\n",
      "        5.0197e-03, 3.6888e-03, 1.5170e-02, 3.9688e-03, 2.2292e-02, 1.2102e-02,\n",
      "        6.1004e-03, 1.0984e-02, 2.2955e-01, 8.2026e-04, 7.1362e-01, 6.4888e-03,\n",
      "        4.0210e-03, 2.5715e-02, 6.9524e-02, 2.3995e-02, 1.8206e-02, 9.7747e-02,\n",
      "        7.1725e-02, 4.0584e-01, 1.2154e-02, 2.0225e-02, 2.0405e-02, 1.0669e-01,\n",
      "        1.7982e-01, 3.6190e-01, 3.1118e-02, 1.9451e-01, 7.7884e-02, 2.0859e-02,\n",
      "        5.5775e-02, 5.1834e-02, 4.3945e-02, 1.0270e-01, 1.0256e-01, 1.2253e-01,\n",
      "        3.6240e-02, 1.4607e-02, 1.0457e-01, 5.2238e-02, 3.0472e-02, 3.3312e-02,\n",
      "        1.5023e-01, 1.6356e-02, 1.6700e-02, 6.1754e-02, 1.4584e-02, 2.6119e-01,\n",
      "        2.0472e-02, 2.2969e-03, 4.1330e-02, 2.2741e-02, 8.2980e-03, 1.6174e-02,\n",
      "        1.5596e-01, 8.7196e-03, 1.9804e-02, 2.1702e-02, 4.9156e-01, 1.2851e-02,\n",
      "        6.4017e-02, 3.1356e-02, 9.5539e-02, 1.9374e-01, 9.8760e-02, 3.7832e-03,\n",
      "        1.4705e-01, 2.1337e-01, 9.4353e-02, 2.9141e-01, 1.3648e-01, 1.4418e-01,\n",
      "        1.6644e-01, 2.1986e-01, 3.7843e-01, 1.1125e-01, 7.6230e-02, 1.2223e-02,\n",
      "        3.9515e-01, 3.1658e-01, 6.4856e-03, 8.3405e-02, 1.1958e-01, 9.1417e-02,\n",
      "        3.1882e-01, 7.5483e-02, 4.4708e-02, 1.4210e-01, 1.1515e-01, 1.7463e-01,\n",
      "        8.6565e-02, 3.8200e-02, 8.2555e-02, 1.1096e-01, 8.8459e-02, 2.6241e-03,\n",
      "        1.9215e-02, 1.8592e-02, 5.1427e-02, 1.1718e-01, 8.0101e-02, 1.2550e-01,\n",
      "        2.6841e-02, 1.1495e-01, 1.9922e-02, 3.0725e-02, 9.6835e-03, 2.3656e-02,\n",
      "        1.5694e-02, 3.0795e-02, 5.0412e-02, 5.6848e-02, 2.1235e-01, 5.7020e-02,\n",
      "        1.7012e-01, 1.9318e-01, 2.5740e-01, 3.9623e-02, 6.6956e-02, 2.2148e-01,\n",
      "        3.3139e-03, 2.9495e-02, 3.9465e-02, 7.5428e-02, 2.7074e-01, 4.5079e-02,\n",
      "        4.3699e-01, 3.2430e-01, 5.0313e-01, 9.6594e-02, 3.0321e-01, 5.4873e-01,\n",
      "        2.2732e-01, 2.2550e-01, 9.2010e-02, 1.1252e-02, 1.7075e-02, 3.7372e-02,\n",
      "        1.6384e-01, 7.8259e-02, 1.8266e-02, 2.3672e-01, 2.0221e-01, 1.9053e-01,\n",
      "        5.1960e-02, 9.7697e-02, 5.0235e-01, 9.3952e-02, 1.8233e-01, 2.6511e-02,\n",
      "        3.1419e-01, 1.9138e-01, 2.2917e-01, 2.0029e-01, 6.8035e-03, 1.2678e-01,\n",
      "        2.5928e-01, 1.3629e-01, 2.8480e-01, 2.1922e-01, 2.3692e-01, 1.4271e-01,\n",
      "        1.7656e-01, 7.9724e-02, 4.2862e-02, 1.8883e-01, 1.3136e-01, 1.2085e-01,\n",
      "        1.9719e-01, 1.7857e-01, 3.9976e-02, 7.1162e-02, 1.6948e-01, 1.5287e-01,\n",
      "        3.1462e-01, 1.7707e-01, 3.9959e-02, 7.0424e-02, 4.0319e-02, 3.3276e-02,\n",
      "        3.4480e-02, 3.4754e-02, 5.4006e-02, 4.5218e-02, 1.9198e-01, 2.5113e-01,\n",
      "        5.0611e-03, 2.5907e-01, 7.0692e-02, 3.3733e-01, 1.6106e-01, 3.2267e-02,\n",
      "        3.8902e-01, 2.2951e-01, 1.3054e-01, 2.9162e-01, 2.7896e-02, 2.4489e-01,\n",
      "        1.3854e-01, 2.6530e-01, 1.6508e-01, 3.4070e-01, 2.1891e-01, 7.5999e-02,\n",
      "        1.5010e-01, 1.9938e-01, 1.1572e-01, 1.1819e-01, 1.4893e-01, 5.2792e-02,\n",
      "        2.0930e-01, 1.0330e-01, 8.6825e-02, 1.2651e-01, 1.8664e-01, 2.5785e-02,\n",
      "        1.1504e-01, 8.4649e-02, 1.8340e-01, 1.5477e-01, 5.1677e-02, 8.9381e-02,\n",
      "        3.8670e-01, 2.0350e-02, 1.7439e-01, 7.0934e-02, 2.5651e-02, 6.6587e-03,\n",
      "        5.9797e-02, 3.7753e-02, 6.4443e-02, 3.1639e-03, 3.8130e-02, 1.0169e-01,\n",
      "        5.3574e-02, 8.2098e-03, 3.7126e-02, 2.9985e-01, 4.3373e-01, 1.5602e-01,\n",
      "        2.8061e-01, 2.3501e-02, 9.1350e-02, 2.3847e-01, 7.9509e-03, 6.2041e-02,\n",
      "        7.7783e-02, 1.4600e-02, 1.7727e-01, 7.5266e-03, 8.8805e-02, 6.0607e-02,\n",
      "        6.5982e-02, 1.5623e-01, 1.5378e-01, 9.9541e-02, 8.3482e-03, 2.2223e-01,\n",
      "        1.2777e-01, 2.4616e-03, 2.9237e-02, 2.7459e-01, 9.0131e-02, 4.8774e-02,\n",
      "        9.0542e-02, 1.9054e-01, 1.5780e-01, 6.9242e-02, 2.5350e-02, 1.1194e-01,\n",
      "        5.6980e-03, 1.6586e-03, 7.7790e-02, 1.8061e-02, 4.1273e-02, 4.3349e-03,\n",
      "        9.0697e-02, 4.7287e-02, 2.2764e-02, 2.3712e-02, 7.2722e-02, 1.4917e-01,\n",
      "        9.7359e-02, 9.2534e-03, 1.4975e-01, 4.5244e-03, 5.3558e-02, 6.7238e-01,\n",
      "        2.9272e-01, 6.4947e-01, 1.0599e-01, 1.3262e-01, 1.0824e-01, 1.8254e-02,\n",
      "        2.6272e-02, 9.1011e-02, 2.9897e-01, 3.1011e-02, 1.0046e-01, 1.5698e-01,\n",
      "        2.0941e-01, 1.4602e-02, 3.9685e-01, 1.3918e-01, 2.9867e-01, 3.3395e-02,\n",
      "        3.1657e-02, 8.5938e-02, 5.7468e-03, 7.6184e-03, 5.3255e-02, 1.1544e-01,\n",
      "        4.8691e-03, 2.6004e-02, 5.9036e-02, 7.1461e-02, 9.4636e-03, 4.3619e-02,\n",
      "        1.6373e-01, 1.4154e-02, 2.9839e-01, 2.5372e-03, 7.1863e-02, 2.1371e-01,\n",
      "        4.2441e-02, 1.8666e-02, 1.8490e-02, 1.7617e-01, 5.3085e-02, 1.2852e-01,\n",
      "        6.3157e-01, 6.0598e-02, 2.8036e-01, 3.8363e-02, 2.1135e-01, 8.7504e-02,\n",
      "        1.7392e-01, 1.3433e-02, 3.0120e-01, 3.5207e-02, 8.2932e-03, 2.2219e-01,\n",
      "        2.5331e-01, 2.8331e-01, 4.8501e-02, 3.1963e-01, 6.9120e-02, 1.1067e-01,\n",
      "        3.0715e-01, 5.5280e-02, 1.7723e-01, 4.2639e-02, 2.1104e-01, 2.1127e-01,\n",
      "        4.0237e-02, 1.8401e-01, 1.3626e-01, 6.3089e-02, 4.0492e-01, 1.6243e-01,\n",
      "        1.1857e-01, 2.1074e-01, 5.3468e-02, 4.5354e-01, 9.8551e-02, 6.7056e-02,\n",
      "        6.2050e-01, 4.9325e-01, 6.0042e-02, 2.0786e-02, 4.4768e-01, 2.7812e-01,\n",
      "        2.5551e-02, 3.0769e-01, 6.2629e-02, 2.7130e-01, 5.4563e-02, 6.3383e-02,\n",
      "        2.0876e-01, 1.6035e-01, 3.9952e-02, 3.8093e-01, 1.5623e-01, 1.8383e-01,\n",
      "        1.8246e-01, 1.3173e-01, 8.2844e-02, 3.4367e-01, 5.8741e-02, 4.7565e-02,\n",
      "        3.0854e-01, 8.6205e-04, 1.7534e-01, 1.7778e-02, 7.0121e-02, 8.8647e-03,\n",
      "        3.7684e-01, 5.6852e-02, 4.2397e-02, 2.8579e-01, 4.8634e-02, 8.7631e-03,\n",
      "        1.1130e-01, 4.6266e-01, 3.2332e-01, 1.7848e-01, 5.0561e-01, 4.6231e-01,\n",
      "        9.4010e-02, 1.8535e-01, 2.9292e-02, 4.5384e-01, 1.9128e-01, 2.7993e-01,\n",
      "        1.3392e-01, 7.9219e-02, 5.2129e-03, 4.7731e-01, 1.5413e-01, 4.2953e-01,\n",
      "        4.3712e-02, 5.1177e-01, 1.5072e-01, 2.7766e-02, 1.1671e-01, 1.5395e-01,\n",
      "        3.1606e-01, 6.0751e-02, 9.6661e-02, 1.1308e-01, 1.5394e-02, 3.1589e-03,\n",
      "        1.7151e-01, 2.5402e-01, 1.2893e-01, 7.7888e-02, 1.4647e-01, 8.7254e-03,\n",
      "        1.0439e-03, 4.7135e-02, 8.0437e-02, 1.9213e-01, 5.8387e-03, 1.9624e-01,\n",
      "        2.5111e-01, 5.0987e-01, 2.5243e-01, 1.0343e-01, 4.7213e-01, 7.3539e-02,\n",
      "        2.6750e-02, 7.5312e-02, 1.4728e-02, 1.7148e-01, 2.9119e-02, 5.3010e-02,\n",
      "        3.7890e-01, 4.9385e-02, 1.6118e-01, 2.3176e-01, 4.4155e-01, 7.3369e-02,\n",
      "        2.6438e-01, 1.9865e-01, 4.0362e-02, 1.2780e-01, 4.2806e-02, 1.4236e-01,\n",
      "        2.2095e-01, 7.9468e-02, 2.0281e-01, 3.3771e-01, 1.7281e-01, 2.8443e-02,\n",
      "        1.7643e-01, 3.8269e-01, 1.5145e-01, 2.1429e-01, 7.8338e-02, 1.2805e-01,\n",
      "        4.2114e-02, 8.2713e-03, 2.8660e-01, 6.0828e-02, 8.0954e-02, 1.5520e-01,\n",
      "        2.5107e-01, 2.2015e-01, 8.0975e-02, 8.0839e-02, 2.9762e-01, 5.5234e-02,\n",
      "        9.3743e-02, 8.6111e-02, 1.1747e-01, 2.0499e-02, 3.7655e-02, 4.3190e-01,\n",
      "        2.2943e-01, 6.5692e-02, 8.8804e-02, 2.8461e-01, 2.7092e-01, 1.3752e-01,\n",
      "        1.5084e-01, 9.0067e-02, 1.7936e-02, 1.6112e-01, 4.3009e-02, 8.5987e-02,\n",
      "        1.3957e-02, 1.0023e-01, 2.7278e-01, 1.8501e-01, 2.4698e-01, 1.0995e-01,\n",
      "        1.5316e-01, 3.5628e-01, 3.7571e-01, 9.4803e-02, 1.9813e-01, 2.8511e-01,\n",
      "        3.6859e-01, 5.6997e-02, 2.8158e-01, 2.2851e-01, 3.0391e-01, 2.9215e-01,\n",
      "        3.0799e-01, 3.4222e-01, 3.2535e-01, 1.3130e-01, 2.7063e-01, 1.6796e-01,\n",
      "        3.1614e-01, 6.0924e-02, 1.0868e-01, 2.3601e-01, 1.0945e-01, 1.8262e-01,\n",
      "        7.7440e-02, 1.5934e-01, 9.1760e-02, 1.2947e-01, 1.1527e-01, 1.1815e-01,\n",
      "        5.9686e-02, 8.3254e-02, 3.3319e-02, 9.6166e-02, 3.4547e-02, 5.9375e-02,\n",
      "        8.9987e-02, 1.1345e-01, 7.5229e-02, 1.2675e-01, 1.4724e-01, 8.1508e-03,\n",
      "        9.1059e-02, 1.4782e-01, 1.9188e-01, 2.6691e-02, 1.3193e-01, 1.9407e-01,\n",
      "        1.6976e-01, 8.3519e-02, 4.4120e-02, 5.9854e-02, 4.3215e-02, 9.2732e-03,\n",
      "        8.1739e-02, 2.4800e-01, 1.7177e-01, 2.0819e-01, 8.7817e-02, 6.0684e-02,\n",
      "        3.1008e-01, 2.8860e-01, 4.1701e-01, 3.0690e-01, 3.1363e-01, 2.3883e-01,\n",
      "        2.8088e-01, 7.5626e-02, 3.8610e-01, 2.1092e-01, 2.3918e-01, 8.2387e-02,\n",
      "        1.6914e-01, 1.2761e-01, 2.8469e-02, 1.2878e-01, 8.0736e-02, 2.2164e-01,\n",
      "        1.4110e-01, 1.5935e-01, 7.1620e-02, 1.3034e-01, 8.3138e-02, 1.8914e-01,\n",
      "        8.2363e-02, 6.0422e-02, 5.3411e-02, 6.6694e-02, 6.3635e-02, 2.3934e-02,\n",
      "        4.0010e-02, 2.5078e-02, 6.8463e-02, 2.4760e-02, 6.0281e-02, 3.6494e-02,\n",
      "        6.6528e-02, 2.7293e-02, 1.0388e-02, 1.0096e-01, 5.5179e-03, 1.5120e-02,\n",
      "        2.3018e-02, 7.5381e-02, 4.8100e-02, 6.8245e-03, 9.0869e-02, 2.3703e-01,\n",
      "        7.0134e-02, 6.1541e-02, 6.2310e-02, 9.7943e-02, 2.7180e-02, 1.6957e-01,\n",
      "        3.2113e-02, 2.3572e-01, 8.9175e-02, 1.0134e-01, 3.1011e-01, 4.6945e-02,\n",
      "        2.9974e-01, 8.9949e-02, 3.6222e-01, 1.2826e-01, 1.0253e-01, 2.6288e-01,\n",
      "        1.3517e-01, 9.0393e-02, 6.8538e-02, 1.6798e-01, 1.3722e-01, 7.9872e-02,\n",
      "        2.4521e-01, 2.1295e-01, 1.6541e-01, 2.3080e-01, 2.4058e-01, 2.9263e-01,\n",
      "        2.7741e-01, 1.2075e-01, 3.8499e-01, 1.8003e-01, 1.4645e-01, 1.8950e-01,\n",
      "        2.1505e-01, 1.8337e-01, 7.6745e-02, 1.7213e-01, 9.1183e-02, 5.0057e-02,\n",
      "        1.4407e-01, 2.1167e-01, 2.7015e-01, 1.7631e-01, 1.8277e-01, 3.3594e-01,\n",
      "        2.3340e-01, 6.6106e-02, 1.0693e-01, 9.5068e-02, 1.1433e-01, 1.2030e-01,\n",
      "        4.4383e-02, 3.8597e-02, 1.0108e-01, 1.4833e-01, 1.9045e-01, 8.0449e-02,\n",
      "        1.7516e-01, 1.0636e-01, 1.3637e-01, 1.4959e-01, 6.9376e-02, 4.7922e-02,\n",
      "        1.0891e-02, 1.7571e-02, 3.2236e-02, 5.4765e-03, 5.4369e-03, 2.2201e-02,\n",
      "        4.8712e-02, 4.2913e-02, 4.0052e-03, 3.6892e-02, 2.1459e-02, 1.9534e-02,\n",
      "        2.2906e-02, 1.4303e-02, 1.6381e-02, 7.8245e-04, 5.9572e-03, 1.0732e-03,\n",
      "        3.7433e-03, 7.4063e-04, 1.0684e-03, 2.7255e-03, 5.3779e-03, 4.2664e-03,\n",
      "        7.9843e-04, 5.2476e-03, 3.8791e-03, 1.5836e-03, 1.6127e-03, 3.4576e-03,\n",
      "        1.2259e-02, 3.3919e-03, 1.3745e-03, 3.1563e-03, 1.3499e-03, 2.2384e-03,\n",
      "        1.5387e-03, 6.5546e-03, 1.4403e-02, 1.1995e-02, 1.4174e-02, 1.2586e-02,\n",
      "        6.5340e-03, 1.8278e-02, 1.9217e-03, 1.0222e-02, 1.7467e-02, 5.6505e-03,\n",
      "        5.3107e-03, 9.4933e-03, 1.0112e-03, 3.8816e-02, 6.0071e-03, 7.3730e-03,\n",
      "        3.6479e-03, 6.0359e-03, 4.2805e-03, 6.0171e-03, 9.5379e-03, 3.2246e-03,\n",
      "        8.7561e-03, 8.9910e-03, 7.5436e-03, 1.5774e-03, 7.8138e-03, 1.0542e-03,\n",
      "        1.7525e-02, 2.7202e-03, 1.5726e-03, 1.6878e-03, 5.3766e-04, 5.4603e-04,\n",
      "        1.2311e-03, 1.7079e-03, 1.5269e-03, 3.4147e-03, 6.4303e-04, 1.4561e-03,\n",
      "        4.8165e-04, 1.1674e-03, 1.0940e-03, 8.0874e-04, 6.9923e-04, 1.1097e-03,\n",
      "        6.0366e-04, 6.9152e-04, 6.5064e-04, 6.4631e-04, 9.8087e-04, 5.9854e-04,\n",
      "        1.0969e-03, 5.1658e-04], device='cuda:0', grad_fn=<SigmoidBackward0>)\n"
     ]
    },
    {
     "data": {
      "image/png": "[encoded data removed]",
      "text/plain": [
       "<Figure size 1400x500 with 1 Axes>"
      ]
     },
     "metadata": {},
     "output_type": "display_data"
    }
   ],
   "source": [
    "for _ in range(5):\n",
    "    plot_example(train_dataset, np.random.randint(len(train_dataset)), threshold=0.5)"
   ]
  }
 ],
 "metadata": {
  "accelerator": "GPU",
  "colab": {
   "gpuType": "T4",
   "provenance": []
  },
  "kernelspec": {
   "display_name": "Python 3 (ipykernel)",
   "language": "python",
   "name": "python3"
  },
  "language_info": {
   "codemirror_mode": {
    "name": "ipython",
    "version": 3
   },
   "file_extension": ".py",
   "mimetype": "text/x-python",
   "name": "python",
   "nbconvert_exporter": "python",
   "pygments_lexer": "ipython3",
   "version": "3.11.7"
  },
  "widgets": {
   "application/vnd.jupyter.widget-state+json": {
    "051d193cd87f47c1971fb87544e1e615": {
     "model_module": "@jupyter-widgets/controls",
     "model_module_version": "1.5.0",
     "model_name": "HBoxModel",
     "state": {
      "_dom_classes": [],
      "_model_module": "@jupyter-widgets/controls",
      "_model_module_version": "1.5.0",
      "_model_name": "HBoxModel",
      "_view_count": null,
      "_view_module": "@jupyter-widgets/controls",
      "_view_module_version": "1.5.0",
      "_view_name": "HBoxView",
      "box_style": "",
      "children": [
       "IPY_MODEL_9d7247c119e642c5894f15ca6974ef3e",
       "IPY_MODEL_a79c22bb34ec4f698a00752b47a6f631",
       "IPY_MODEL_d95f3a3f26c6470d984542cdfd68bec1"
      ],
      "layout": "IPY_MODEL_343e11c62a59448eb43bbc0c31bf5f11"
     }
    },
    "0e0a20b5ed7a44e9834022e7eba2194d": {
     "model_module": "@jupyter-widgets/controls",
     "model_module_version": "1.5.0",
     "model_name": "FloatProgressModel",
     "state": {
      "_dom_classes": [],
      "_model_module": "@jupyter-widgets/controls",
      "_model_module_version": "1.5.0",
      "_model_name": "FloatProgressModel",
      "_view_count": null,
      "_view_module": "@jupyter-widgets/controls",
      "_view_module_version": "1.5.0",
      "_view_name": "ProgressView",
      "bar_style": "success",
      "description": "",
      "description_tooltip": null,
      "layout": "IPY_MODEL_a8eda8bfe08e4152a80c63830138c96d",
      "max": 2,
      "min": 0,
      "orientation": "horizontal",
      "style": "IPY_MODEL_1f258eacd6d0472385d41523b65dea8b",
      "value": 2
     }
    },
    "130120644beb48acbc038651459af43c": {
     "model_module": "@jupyter-widgets/base",
     "model_module_version": "1.2.0",
     "model_name": "LayoutModel",
     "state": {
      "_model_module": "@jupyter-widgets/base",
      "_model_module_version": "1.2.0",
      "_model_name": "LayoutModel",
      "_view_count": null,
      "_view_module": "@jupyter-widgets/base",
      "_view_module_version": "1.2.0",
      "_view_name": "LayoutView",
      "align_content": null,
      "align_items": null,
      "align_self": null,
      "border": null,
      "bottom": null,
      "display": null,
      "flex": null,
      "flex_flow": null,
      "grid_area": null,
      "grid_auto_columns": null,
      "grid_auto_flow": null,
      "grid_auto_rows": null,
      "grid_column": null,
      "grid_gap": null,
      "grid_row": null,
      "grid_template_areas": null,
      "grid_template_columns": null,
      "grid_template_rows": null,
      "height": null,
      "justify_content": null,
      "justify_items": null,
      "left": null,
      "margin": null,
      "max_height": null,
      "max_width": null,
      "min_height": null,
      "min_width": null,
      "object_fit": null,
      "object_position": null,
      "order": null,
      "overflow": null,
      "overflow_x": null,
      "overflow_y": null,
      "padding": null,
      "right": null,
      "top": null,
      "visibility": null,
      "width": null
     }
    },
    "1af01f1f1aac42b8bff46fe4df8a59ad": {
     "model_module": "@jupyter-widgets/controls",
     "model_module_version": "1.5.0",
     "model_name": "HBoxModel",
     "state": {
      "_dom_classes": [],
      "_model_module": "@jupyter-widgets/controls",
      "_model_module_version": "1.5.0",
      "_model_name": "HBoxModel",
      "_view_count": null,
      "_view_module": "@jupyter-widgets/controls",
      "_view_module_version": "1.5.0",
      "_view_name": "HBoxView",
      "box_style": "",
      "children": [
       "IPY_MODEL_eee8731f316244eda5ff0765fd12bf85",
       "IPY_MODEL_f135278e410f4b708435bb80fb630bcf",
       "IPY_MODEL_2e6fc79bf5c149d6b0bc5c52e18debc7"
      ],
      "layout": "IPY_MODEL_a4b0debc025444a59abd6953b3512c0d"
     }
    },
    "1b6c59a51359453c926bfcddb3d0f0ea": {
     "model_module": "@jupyter-widgets/base",
     "model_module_version": "1.2.0",
     "model_name": "LayoutModel",
     "state": {
      "_model_module": "@jupyter-widgets/base",
      "_model_module_version": "1.2.0",
      "_model_name": "LayoutModel",
      "_view_count": null,
      "_view_module": "@jupyter-widgets/base",
      "_view_module_version": "1.2.0",
      "_view_name": "LayoutView",
      "align_content": null,
      "align_items": null,
      "align_self": null,
      "border": null,
      "bottom": null,
      "display": null,
      "flex": null,
      "flex_flow": null,
      "grid_area": null,
      "grid_auto_columns": null,
      "grid_auto_flow": null,
      "grid_auto_rows": null,
      "grid_column": null,
      "grid_gap": null,
      "grid_row": null,
      "grid_template_areas": null,
      "grid_template_columns": null,
      "grid_template_rows": null,
      "height": null,
      "justify_content": null,
      "justify_items": null,
      "left": null,
      "margin": null,
      "max_height": null,
      "max_width": null,
      "min_height": null,
      "min_width": null,
      "object_fit": null,
      "object_position": null,
      "order": null,
      "overflow": null,
      "overflow_x": null,
      "overflow_y": null,
      "padding": null,
      "right": null,
      "top": null,
      "visibility": null,
      "width": null
     }
    },
    "1ca492fddbaa4ea7a3226649154e01fd": {
     "model_module": "@jupyter-widgets/controls",
     "model_module_version": "1.5.0",
     "model_name": "DescriptionStyleModel",
     "state": {
      "_model_module": "@jupyter-widgets/controls",
      "_model_module_version": "1.5.0",
      "_model_name": "DescriptionStyleModel",
      "_view_count": null,
      "_view_module": "@jupyter-widgets/base",
      "_view_module_version": "1.2.0",
      "_view_name": "StyleView",
      "description_width": ""
     }
    },
    "1f258eacd6d0472385d41523b65dea8b": {
     "model_module": "@jupyter-widgets/controls",
     "model_module_version": "1.5.0",
     "model_name": "ProgressStyleModel",
     "state": {
      "_model_module": "@jupyter-widgets/controls",
      "_model_module_version": "1.5.0",
      "_model_name": "ProgressStyleModel",
      "_view_count": null,
      "_view_module": "@jupyter-widgets/base",
      "_view_module_version": "1.2.0",
      "_view_name": "StyleView",
      "bar_color": null,
      "description_width": ""
     }
    },
    "1f73f8b4d4da4e74adc135f2a2f6ee65": {
     "model_module": "@jupyter-widgets/controls",
     "model_module_version": "1.5.0",
     "model_name": "HTMLModel",
     "state": {
      "_dom_classes": [],
      "_model_module": "@jupyter-widgets/controls",
      "_model_module_version": "1.5.0",
      "_model_name": "HTMLModel",
      "_view_count": null,
      "_view_module": "@jupyter-widgets/controls",
      "_view_module_version": "1.5.0",
      "_view_name": "HTMLView",
      "description": "",
      "description_tooltip": null,
      "layout": "IPY_MODEL_1b6c59a51359453c926bfcddb3d0f0ea",
      "placeholder": "​",
      "style": "IPY_MODEL_dac3669f18284161a58d52f26dffb761",
      "value": "pytorch_model-00002-of-00002.bin: 100%"
     }
    },
    "20670478612f4b1a8a5f23d71a2609a7": {
     "model_module": "@jupyter-widgets/controls",
     "model_module_version": "1.5.0",
     "model_name": "ProgressStyleModel",
     "state": {
      "_model_module": "@jupyter-widgets/controls",
      "_model_module_version": "1.5.0",
      "_model_name": "ProgressStyleModel",
      "_view_count": null,
      "_view_module": "@jupyter-widgets/base",
      "_view_module_version": "1.2.0",
      "_view_name": "StyleView",
      "bar_color": null,
      "description_width": ""
     }
    },
    "228b1bcf604f454f8060a250b58008a1": {
     "model_module": "@jupyter-widgets/base",
     "model_module_version": "1.2.0",
     "model_name": "LayoutModel",
     "state": {
      "_model_module": "@jupyter-widgets/base",
      "_model_module_version": "1.2.0",
      "_model_name": "LayoutModel",
      "_view_count": null,
      "_view_module": "@jupyter-widgets/base",
      "_view_module_version": "1.2.0",
      "_view_name": "LayoutView",
      "align_content": null,
      "align_items": null,
      "align_self": null,
      "border": null,
      "bottom": null,
      "display": null,
      "flex": null,
      "flex_flow": null,
      "grid_area": null,
      "grid_auto_columns": null,
      "grid_auto_flow": null,
      "grid_auto_rows": null,
      "grid_column": null,
      "grid_gap": null,
      "grid_row": null,
      "grid_template_areas": null,
      "grid_template_columns": null,
      "grid_template_rows": null,
      "height": null,
      "justify_content": null,
      "justify_items": null,
      "left": null,
      "margin": null,
      "max_height": null,
      "max_width": null,
      "min_height": null,
      "min_width": null,
      "object_fit": null,
      "object_position": null,
      "order": null,
      "overflow": null,
      "overflow_x": null,
      "overflow_y": null,
      "padding": null,
      "right": null,
      "top": null,
      "visibility": null,
      "width": null
     }
    },
    "27bb18a199ca47108c7a61e9c443de36": {
     "model_module": "@jupyter-widgets/controls",
     "model_module_version": "1.5.0",
     "model_name": "DescriptionStyleModel",
     "state": {
      "_model_module": "@jupyter-widgets/controls",
      "_model_module_version": "1.5.0",
      "_model_name": "DescriptionStyleModel",
      "_view_count": null,
      "_view_module": "@jupyter-widgets/base",
      "_view_module_version": "1.2.0",
      "_view_name": "StyleView",
      "description_width": ""
     }
    },
    "2bb3d36d248a48fba364f14d9e840306": {
     "model_module": "@jupyter-widgets/controls",
     "model_module_version": "1.5.0",
     "model_name": "DescriptionStyleModel",
     "state": {
      "_model_module": "@jupyter-widgets/controls",
      "_model_module_version": "1.5.0",
      "_model_name": "DescriptionStyleModel",
      "_view_count": null,
      "_view_module": "@jupyter-widgets/base",
      "_view_module_version": "1.2.0",
      "_view_name": "StyleView",
      "description_width": ""
     }
    },
    "2e6fc79bf5c149d6b0bc5c52e18debc7": {
     "model_module": "@jupyter-widgets/controls",
     "model_module_version": "1.5.0",
     "model_name": "HTMLModel",
     "state": {
      "_dom_classes": [],
      "_model_module": "@jupyter-widgets/controls",
      "_model_module_version": "1.5.0",
      "_model_name": "HTMLModel",
      "_view_count": null,
      "_view_module": "@jupyter-widgets/controls",
      "_view_module_version": "1.5.0",
      "_view_name": "HTMLView",
      "description": "",
      "description_tooltip": null,
      "layout": "IPY_MODEL_b29647e268414329be56047e522e28b9",
      "placeholder": "​",
      "style": "IPY_MODEL_27bb18a199ca47108c7a61e9c443de36",
      "value": " 9.98G/9.98G [06:35&lt;00:00, 25.8MB/s]"
     }
    },
    "33ebb868f3e846f6af1a1a2a8ad6a3cb": {
     "model_module": "@jupyter-widgets/controls",
     "model_module_version": "1.5.0",
     "model_name": "HBoxModel",
     "state": {
      "_dom_classes": [],
      "_model_module": "@jupyter-widgets/controls",
      "_model_module_version": "1.5.0",
      "_model_name": "HBoxModel",
      "_view_count": null,
      "_view_module": "@jupyter-widgets/controls",
      "_view_module_version": "1.5.0",
      "_view_name": "HBoxView",
      "box_style": "",
      "children": [
       "IPY_MODEL_1f73f8b4d4da4e74adc135f2a2f6ee65",
       "IPY_MODEL_68da6e6e69c8419895bea2068760534e",
       "IPY_MODEL_6dc1a868e08c4c3b8315116d2c46573b"
      ],
      "layout": "IPY_MODEL_7a5d714c17374104bb6f5caaa5541c10"
     }
    },
    "343e11c62a59448eb43bbc0c31bf5f11": {
     "model_module": "@jupyter-widgets/base",
     "model_module_version": "1.2.0",
     "model_name": "LayoutModel",
     "state": {
      "_model_module": "@jupyter-widgets/base",
      "_model_module_version": "1.2.0",
      "_model_name": "LayoutModel",
      "_view_count": null,
      "_view_module": "@jupyter-widgets/base",
      "_view_module_version": "1.2.0",
      "_view_name": "LayoutView",
      "align_content": null,
      "align_items": null,
      "align_self": null,
      "border": null,
      "bottom": null,
      "display": null,
      "flex": null,
      "flex_flow": null,
      "grid_area": null,
      "grid_auto_columns": null,
      "grid_auto_flow": null,
      "grid_auto_rows": null,
      "grid_column": null,
      "grid_gap": null,
      "grid_row": null,
      "grid_template_areas": null,
      "grid_template_columns": null,
      "grid_template_rows": null,
      "height": null,
      "justify_content": null,
      "justify_items": null,
      "left": null,
      "margin": null,
      "max_height": null,
      "max_width": null,
      "min_height": null,
      "min_width": null,
      "object_fit": null,
      "object_position": null,
      "order": null,
      "overflow": null,
      "overflow_x": null,
      "overflow_y": null,
      "padding": null,
      "right": null,
      "top": null,
      "visibility": null,
      "width": null
     }
    },
    "52c4bf7418f74bc79a8c12fe35901974": {
     "model_module": "@jupyter-widgets/controls",
     "model_module_version": "1.5.0",
     "model_name": "HBoxModel",
     "state": {
      "_dom_classes": [],
      "_model_module": "@jupyter-widgets/controls",
      "_model_module_version": "1.5.0",
      "_model_name": "HBoxModel",
      "_view_count": null,
      "_view_module": "@jupyter-widgets/controls",
      "_view_module_version": "1.5.0",
      "_view_name": "HBoxView",
      "box_style": "",
      "children": [
       "IPY_MODEL_c5e609d111b34d408a53a4cd71bb43d5",
       "IPY_MODEL_0e0a20b5ed7a44e9834022e7eba2194d",
       "IPY_MODEL_b5627331e78e4eb28765ed20f32cf403"
      ],
      "layout": "IPY_MODEL_8084d4cb267f4a52b3d80ec34d291190"
     }
    },
    "68da6e6e69c8419895bea2068760534e": {
     "model_module": "@jupyter-widgets/controls",
     "model_module_version": "1.5.0",
     "model_name": "FloatProgressModel",
     "state": {
      "_dom_classes": [],
      "_model_module": "@jupyter-widgets/controls",
      "_model_module_version": "1.5.0",
      "_model_name": "FloatProgressModel",
      "_view_count": null,
      "_view_module": "@jupyter-widgets/controls",
      "_view_module_version": "1.5.0",
      "_view_name": "ProgressView",
      "bar_style": "success",
      "description": "",
      "description_tooltip": null,
      "layout": "IPY_MODEL_a3511f489f6d47cc8d404ab6f367b29f",
      "max": 3500316627,
      "min": 0,
      "orientation": "horizontal",
      "style": "IPY_MODEL_20670478612f4b1a8a5f23d71a2609a7",
      "value": 3500316627
     }
    },
    "6aef866a6c474dfabb2140ded933c5aa": {
     "model_module": "@jupyter-widgets/base",
     "model_module_version": "1.2.0",
     "model_name": "LayoutModel",
     "state": {
      "_model_module": "@jupyter-widgets/base",
      "_model_module_version": "1.2.0",
      "_model_name": "LayoutModel",
      "_view_count": null,
      "_view_module": "@jupyter-widgets/base",
      "_view_module_version": "1.2.0",
      "_view_name": "LayoutView",
      "align_content": null,
      "align_items": null,
      "align_self": null,
      "border": null,
      "bottom": null,
      "display": null,
      "flex": null,
      "flex_flow": null,
      "grid_area": null,
      "grid_auto_columns": null,
      "grid_auto_flow": null,
      "grid_auto_rows": null,
      "grid_column": null,
      "grid_gap": null,
      "grid_row": null,
      "grid_template_areas": null,
      "grid_template_columns": null,
      "grid_template_rows": null,
      "height": null,
      "justify_content": null,
      "justify_items": null,
      "left": null,
      "margin": null,
      "max_height": null,
      "max_width": null,
      "min_height": null,
      "min_width": null,
      "object_fit": null,
      "object_position": null,
      "order": null,
      "overflow": null,
      "overflow_x": null,
      "overflow_y": null,
      "padding": null,
      "right": null,
      "top": null,
      "visibility": null,
      "width": null
     }
    },
    "6dc1a868e08c4c3b8315116d2c46573b": {
     "model_module": "@jupyter-widgets/controls",
     "model_module_version": "1.5.0",
     "model_name": "HTMLModel",
     "state": {
      "_dom_classes": [],
      "_model_module": "@jupyter-widgets/controls",
      "_model_module_version": "1.5.0",
      "_model_name": "HTMLModel",
      "_view_count": null,
      "_view_module": "@jupyter-widgets/controls",
      "_view_module_version": "1.5.0",
      "_view_name": "HTMLView",
      "description": "",
      "description_tooltip": null,
      "layout": "IPY_MODEL_b463153ec04749e38540389efa2981f7",
      "placeholder": "​",
      "style": "IPY_MODEL_2bb3d36d248a48fba364f14d9e840306",
      "value": " 3.50G/3.50G [02:27&lt;00:00, 26.4MB/s]"
     }
    },
    "7a1f3340688d408092adade75f4baac4": {
     "model_module": "@jupyter-widgets/controls",
     "model_module_version": "1.5.0",
     "model_name": "ProgressStyleModel",
     "state": {
      "_model_module": "@jupyter-widgets/controls",
      "_model_module_version": "1.5.0",
      "_model_name": "ProgressStyleModel",
      "_view_count": null,
      "_view_module": "@jupyter-widgets/base",
      "_view_module_version": "1.2.0",
      "_view_name": "StyleView",
      "bar_color": null,
      "description_width": ""
     }
    },
    "7a5d714c17374104bb6f5caaa5541c10": {
     "model_module": "@jupyter-widgets/base",
     "model_module_version": "1.2.0",
     "model_name": "LayoutModel",
     "state": {
      "_model_module": "@jupyter-widgets/base",
      "_model_module_version": "1.2.0",
      "_model_name": "LayoutModel",
      "_view_count": null,
      "_view_module": "@jupyter-widgets/base",
      "_view_module_version": "1.2.0",
      "_view_name": "LayoutView",
      "align_content": null,
      "align_items": null,
      "align_self": null,
      "border": null,
      "bottom": null,
      "display": null,
      "flex": null,
      "flex_flow": null,
      "grid_area": null,
      "grid_auto_columns": null,
      "grid_auto_flow": null,
      "grid_auto_rows": null,
      "grid_column": null,
      "grid_gap": null,
      "grid_row": null,
      "grid_template_areas": null,
      "grid_template_columns": null,
      "grid_template_rows": null,
      "height": null,
      "justify_content": null,
      "justify_items": null,
      "left": null,
      "margin": null,
      "max_height": null,
      "max_width": null,
      "min_height": null,
      "min_width": null,
      "object_fit": null,
      "object_position": null,
      "order": null,
      "overflow": null,
      "overflow_x": null,
      "overflow_y": null,
      "padding": null,
      "right": null,
      "top": null,
      "visibility": null,
      "width": null
     }
    },
    "8084d4cb267f4a52b3d80ec34d291190": {
     "model_module": "@jupyter-widgets/base",
     "model_module_version": "1.2.0",
     "model_name": "LayoutModel",
     "state": {
      "_model_module": "@jupyter-widgets/base",
      "_model_module_version": "1.2.0",
      "_model_name": "LayoutModel",
      "_view_count": null,
      "_view_module": "@jupyter-widgets/base",
      "_view_module_version": "1.2.0",
      "_view_name": "LayoutView",
      "align_content": null,
      "align_items": null,
      "align_self": null,
      "border": null,
      "bottom": null,
      "display": null,
      "flex": null,
      "flex_flow": null,
      "grid_area": null,
      "grid_auto_columns": null,
      "grid_auto_flow": null,
      "grid_auto_rows": null,
      "grid_column": null,
      "grid_gap": null,
      "grid_row": null,
      "grid_template_areas": null,
      "grid_template_columns": null,
      "grid_template_rows": null,
      "height": null,
      "justify_content": null,
      "justify_items": null,
      "left": null,
      "margin": null,
      "max_height": null,
      "max_width": null,
      "min_height": null,
      "min_width": null,
      "object_fit": null,
      "object_position": null,
      "order": null,
      "overflow": null,
      "overflow_x": null,
      "overflow_y": null,
      "padding": null,
      "right": null,
      "top": null,
      "visibility": null,
      "width": null
     }
    },
    "84da055d24694320843e13ad37438792": {
     "model_module": "@jupyter-widgets/controls",
     "model_module_version": "1.5.0",
     "model_name": "DescriptionStyleModel",
     "state": {
      "_model_module": "@jupyter-widgets/controls",
      "_model_module_version": "1.5.0",
      "_model_name": "DescriptionStyleModel",
      "_view_count": null,
      "_view_module": "@jupyter-widgets/base",
      "_view_module_version": "1.2.0",
      "_view_name": "StyleView",
      "description_width": ""
     }
    },
    "8c887ca9b0eb44fdb8608bf36b5db5c5": {
     "model_module": "@jupyter-widgets/base",
     "model_module_version": "1.2.0",
     "model_name": "LayoutModel",
     "state": {
      "_model_module": "@jupyter-widgets/base",
      "_model_module_version": "1.2.0",
      "_model_name": "LayoutModel",
      "_view_count": null,
      "_view_module": "@jupyter-widgets/base",
      "_view_module_version": "1.2.0",
      "_view_name": "LayoutView",
      "align_content": null,
      "align_items": null,
      "align_self": null,
      "border": null,
      "bottom": null,
      "display": null,
      "flex": null,
      "flex_flow": null,
      "grid_area": null,
      "grid_auto_columns": null,
      "grid_auto_flow": null,
      "grid_auto_rows": null,
      "grid_column": null,
      "grid_gap": null,
      "grid_row": null,
      "grid_template_areas": null,
      "grid_template_columns": null,
      "grid_template_rows": null,
      "height": null,
      "justify_content": null,
      "justify_items": null,
      "left": null,
      "margin": null,
      "max_height": null,
      "max_width": null,
      "min_height": null,
      "min_width": null,
      "object_fit": null,
      "object_position": null,
      "order": null,
      "overflow": null,
      "overflow_x": null,
      "overflow_y": null,
      "padding": null,
      "right": null,
      "top": null,
      "visibility": null,
      "width": null
     }
    },
    "90b281e9c5ed4e77ab93e5879d0b15a3": {
     "model_module": "@jupyter-widgets/controls",
     "model_module_version": "1.5.0",
     "model_name": "DescriptionStyleModel",
     "state": {
      "_model_module": "@jupyter-widgets/controls",
      "_model_module_version": "1.5.0",
      "_model_name": "DescriptionStyleModel",
      "_view_count": null,
      "_view_module": "@jupyter-widgets/base",
      "_view_module_version": "1.2.0",
      "_view_name": "StyleView",
      "description_width": ""
     }
    },
    "9434350b1b9c4060812feb9ecbf63278": {
     "model_module": "@jupyter-widgets/controls",
     "model_module_version": "1.5.0",
     "model_name": "ProgressStyleModel",
     "state": {
      "_model_module": "@jupyter-widgets/controls",
      "_model_module_version": "1.5.0",
      "_model_name": "ProgressStyleModel",
      "_view_count": null,
      "_view_module": "@jupyter-widgets/base",
      "_view_module_version": "1.2.0",
      "_view_name": "StyleView",
      "bar_color": null,
      "description_width": ""
     }
    },
    "95501d0b5a22407288f008bf8cc69726": {
     "model_module": "@jupyter-widgets/controls",
     "model_module_version": "1.5.0",
     "model_name": "ProgressStyleModel",
     "state": {
      "_model_module": "@jupyter-widgets/controls",
      "_model_module_version": "1.5.0",
      "_model_name": "ProgressStyleModel",
      "_view_count": null,
      "_view_module": "@jupyter-widgets/base",
      "_view_module_version": "1.2.0",
      "_view_name": "StyleView",
      "bar_color": null,
      "description_width": ""
     }
    },
    "9d7247c119e642c5894f15ca6974ef3e": {
     "model_module": "@jupyter-widgets/controls",
     "model_module_version": "1.5.0",
     "model_name": "HTMLModel",
     "state": {
      "_dom_classes": [],
      "_model_module": "@jupyter-widgets/controls",
      "_model_module_version": "1.5.0",
      "_model_name": "HTMLModel",
      "_view_count": null,
      "_view_module": "@jupyter-widgets/controls",
      "_view_module_version": "1.5.0",
      "_view_name": "HTMLView",
      "description": "",
      "description_tooltip": null,
      "layout": "IPY_MODEL_a153c96bd1fe4c48a41e9b9c7c00dd6e",
      "placeholder": "​",
      "style": "IPY_MODEL_84da055d24694320843e13ad37438792",
      "value": "Loading checkpoint shards: 100%"
     }
    },
    "a153c96bd1fe4c48a41e9b9c7c00dd6e": {
     "model_module": "@jupyter-widgets/base",
     "model_module_version": "1.2.0",
     "model_name": "LayoutModel",
     "state": {
      "_model_module": "@jupyter-widgets/base",
      "_model_module_version": "1.2.0",
      "_model_name": "LayoutModel",
      "_view_count": null,
      "_view_module": "@jupyter-widgets/base",
      "_view_module_version": "1.2.0",
      "_view_name": "LayoutView",
      "align_content": null,
      "align_items": null,
      "align_self": null,
      "border": null,
      "bottom": null,
      "display": null,
      "flex": null,
      "flex_flow": null,
      "grid_area": null,
      "grid_auto_columns": null,
      "grid_auto_flow": null,
      "grid_auto_rows": null,
      "grid_column": null,
      "grid_gap": null,
      "grid_row": null,
      "grid_template_areas": null,
      "grid_template_columns": null,
      "grid_template_rows": null,
      "height": null,
      "justify_content": null,
      "justify_items": null,
      "left": null,
      "margin": null,
      "max_height": null,
      "max_width": null,
      "min_height": null,
      "min_width": null,
      "object_fit": null,
      "object_position": null,
      "order": null,
      "overflow": null,
      "overflow_x": null,
      "overflow_y": null,
      "padding": null,
      "right": null,
      "top": null,
      "visibility": null,
      "width": null
     }
    },
    "a3511f489f6d47cc8d404ab6f367b29f": {
     "model_module": "@jupyter-widgets/base",
     "model_module_version": "1.2.0",
     "model_name": "LayoutModel",
     "state": {
      "_model_module": "@jupyter-widgets/base",
      "_model_module_version": "1.2.0",
      "_model_name": "LayoutModel",
      "_view_count": null,
      "_view_module": "@jupyter-widgets/base",
      "_view_module_version": "1.2.0",
      "_view_name": "LayoutView",
      "align_content": null,
      "align_items": null,
      "align_self": null,
      "border": null,
      "bottom": null,
      "display": null,
      "flex": null,
      "flex_flow": null,
      "grid_area": null,
      "grid_auto_columns": null,
      "grid_auto_flow": null,
      "grid_auto_rows": null,
      "grid_column": null,
      "grid_gap": null,
      "grid_row": null,
      "grid_template_areas": null,
      "grid_template_columns": null,
      "grid_template_rows": null,
      "height": null,
      "justify_content": null,
      "justify_items": null,
      "left": null,
      "margin": null,
      "max_height": null,
      "max_width": null,
      "min_height": null,
      "min_width": null,
      "object_fit": null,
      "object_position": null,
      "order": null,
      "overflow": null,
      "overflow_x": null,
      "overflow_y": null,
      "padding": null,
      "right": null,
      "top": null,
      "visibility": null,
      "width": null
     }
    },
    "a4b0debc025444a59abd6953b3512c0d": {
     "model_module": "@jupyter-widgets/base",
     "model_module_version": "1.2.0",
     "model_name": "LayoutModel",
     "state": {
      "_model_module": "@jupyter-widgets/base",
      "_model_module_version": "1.2.0",
      "_model_name": "LayoutModel",
      "_view_count": null,
      "_view_module": "@jupyter-widgets/base",
      "_view_module_version": "1.2.0",
      "_view_name": "LayoutView",
      "align_content": null,
      "align_items": null,
      "align_self": null,
      "border": null,
      "bottom": null,
      "display": null,
      "flex": null,
      "flex_flow": null,
      "grid_area": null,
      "grid_auto_columns": null,
      "grid_auto_flow": null,
      "grid_auto_rows": null,
      "grid_column": null,
      "grid_gap": null,
      "grid_row": null,
      "grid_template_areas": null,
      "grid_template_columns": null,
      "grid_template_rows": null,
      "height": null,
      "justify_content": null,
      "justify_items": null,
      "left": null,
      "margin": null,
      "max_height": null,
      "max_width": null,
      "min_height": null,
      "min_width": null,
      "object_fit": null,
      "object_position": null,
      "order": null,
      "overflow": null,
      "overflow_x": null,
      "overflow_y": null,
      "padding": null,
      "right": null,
      "top": null,
      "visibility": null,
      "width": null
     }
    },
    "a79c22bb34ec4f698a00752b47a6f631": {
     "model_module": "@jupyter-widgets/controls",
     "model_module_version": "1.5.0",
     "model_name": "FloatProgressModel",
     "state": {
      "_dom_classes": [],
      "_model_module": "@jupyter-widgets/controls",
      "_model_module_version": "1.5.0",
      "_model_name": "FloatProgressModel",
      "_view_count": null,
      "_view_module": "@jupyter-widgets/controls",
      "_view_module_version": "1.5.0",
      "_view_name": "ProgressView",
      "bar_style": "success",
      "description": "",
      "description_tooltip": null,
      "layout": "IPY_MODEL_e375632975904402baea46163e2eeca1",
      "max": 2,
      "min": 0,
      "orientation": "horizontal",
      "style": "IPY_MODEL_95501d0b5a22407288f008bf8cc69726",
      "value": 2
     }
    },
    "a8dcdf1f7ab64242acb057e8b54ebf79": {
     "model_module": "@jupyter-widgets/base",
     "model_module_version": "1.2.0",
     "model_name": "LayoutModel",
     "state": {
      "_model_module": "@jupyter-widgets/base",
      "_model_module_version": "1.2.0",
      "_model_name": "LayoutModel",
      "_view_count": null,
      "_view_module": "@jupyter-widgets/base",
      "_view_module_version": "1.2.0",
      "_view_name": "LayoutView",
      "align_content": null,
      "align_items": null,
      "align_self": null,
      "border": null,
      "bottom": null,
      "display": null,
      "flex": null,
      "flex_flow": null,
      "grid_area": null,
      "grid_auto_columns": null,
      "grid_auto_flow": null,
      "grid_auto_rows": null,
      "grid_column": null,
      "grid_gap": null,
      "grid_row": null,
      "grid_template_areas": null,
      "grid_template_columns": null,
      "grid_template_rows": null,
      "height": null,
      "justify_content": null,
      "justify_items": null,
      "left": null,
      "margin": null,
      "max_height": null,
      "max_width": null,
      "min_height": null,
      "min_width": null,
      "object_fit": null,
      "object_position": null,
      "order": null,
      "overflow": null,
      "overflow_x": null,
      "overflow_y": null,
      "padding": null,
      "right": null,
      "top": null,
      "visibility": null,
      "width": null
     }
    },
    "a8eda8bfe08e4152a80c63830138c96d": {
     "model_module": "@jupyter-widgets/base",
     "model_module_version": "1.2.0",
     "model_name": "LayoutModel",
     "state": {
      "_model_module": "@jupyter-widgets/base",
      "_model_module_version": "1.2.0",
      "_model_name": "LayoutModel",
      "_view_count": null,
      "_view_module": "@jupyter-widgets/base",
      "_view_module_version": "1.2.0",
      "_view_name": "LayoutView",
      "align_content": null,
      "align_items": null,
      "align_self": null,
      "border": null,
      "bottom": null,
      "display": null,
      "flex": null,
      "flex_flow": null,
      "grid_area": null,
      "grid_auto_columns": null,
      "grid_auto_flow": null,
      "grid_auto_rows": null,
      "grid_column": null,
      "grid_gap": null,
      "grid_row": null,
      "grid_template_areas": null,
      "grid_template_columns": null,
      "grid_template_rows": null,
      "height": null,
      "justify_content": null,
      "justify_items": null,
      "left": null,
      "margin": null,
      "max_height": null,
      "max_width": null,
      "min_height": null,
      "min_width": null,
      "object_fit": null,
      "object_position": null,
      "order": null,
      "overflow": null,
      "overflow_x": null,
      "overflow_y": null,
      "padding": null,
      "right": null,
      "top": null,
      "visibility": null,
      "width": null
     }
    },
    "b29647e268414329be56047e522e28b9": {
     "model_module": "@jupyter-widgets/base",
     "model_module_version": "1.2.0",
     "model_name": "LayoutModel",
     "state": {
      "_model_module": "@jupyter-widgets/base",
      "_model_module_version": "1.2.0",
      "_model_name": "LayoutModel",
      "_view_count": null,
      "_view_module": "@jupyter-widgets/base",
      "_view_module_version": "1.2.0",
      "_view_name": "LayoutView",
      "align_content": null,
      "align_items": null,
      "align_self": null,
      "border": null,
      "bottom": null,
      "display": null,
      "flex": null,
      "flex_flow": null,
      "grid_area": null,
      "grid_auto_columns": null,
      "grid_auto_flow": null,
      "grid_auto_rows": null,
      "grid_column": null,
      "grid_gap": null,
      "grid_row": null,
      "grid_template_areas": null,
      "grid_template_columns": null,
      "grid_template_rows": null,
      "height": null,
      "justify_content": null,
      "justify_items": null,
      "left": null,
      "margin": null,
      "max_height": null,
      "max_width": null,
      "min_height": null,
      "min_width": null,
      "object_fit": null,
      "object_position": null,
      "order": null,
      "overflow": null,
      "overflow_x": null,
      "overflow_y": null,
      "padding": null,
      "right": null,
      "top": null,
      "visibility": null,
      "width": null
     }
    },
    "b463153ec04749e38540389efa2981f7": {
     "model_module": "@jupyter-widgets/base",
     "model_module_version": "1.2.0",
     "model_name": "LayoutModel",
     "state": {
      "_model_module": "@jupyter-widgets/base",
      "_model_module_version": "1.2.0",
      "_model_name": "LayoutModel",
      "_view_count": null,
      "_view_module": "@jupyter-widgets/base",
      "_view_module_version": "1.2.0",
      "_view_name": "LayoutView",
      "align_content": null,
      "align_items": null,
      "align_self": null,
      "border": null,
      "bottom": null,
      "display": null,
      "flex": null,
      "flex_flow": null,
      "grid_area": null,
      "grid_auto_columns": null,
      "grid_auto_flow": null,
      "grid_auto_rows": null,
      "grid_column": null,
      "grid_gap": null,
      "grid_row": null,
      "grid_template_areas": null,
      "grid_template_columns": null,
      "grid_template_rows": null,
      "height": null,
      "justify_content": null,
      "justify_items": null,
      "left": null,
      "margin": null,
      "max_height": null,
      "max_width": null,
      "min_height": null,
      "min_width": null,
      "object_fit": null,
      "object_position": null,
      "order": null,
      "overflow": null,
      "overflow_x": null,
      "overflow_y": null,
      "padding": null,
      "right": null,
      "top": null,
      "visibility": null,
      "width": null
     }
    },
    "b5627331e78e4eb28765ed20f32cf403": {
     "model_module": "@jupyter-widgets/controls",
     "model_module_version": "1.5.0",
     "model_name": "HTMLModel",
     "state": {
      "_dom_classes": [],
      "_model_module": "@jupyter-widgets/controls",
      "_model_module_version": "1.5.0",
      "_model_name": "HTMLModel",
      "_view_count": null,
      "_view_module": "@jupyter-widgets/controls",
      "_view_module_version": "1.5.0",
      "_view_name": "HTMLView",
      "description": "",
      "description_tooltip": null,
      "layout": "IPY_MODEL_228b1bcf604f454f8060a250b58008a1",
      "placeholder": "​",
      "style": "IPY_MODEL_90b281e9c5ed4e77ab93e5879d0b15a3",
      "value": " 2/2 [01:13&lt;00:00, 33.04s/it]"
     }
    },
    "b6e821c974674f2290c354238d6c919c": {
     "model_module": "@jupyter-widgets/controls",
     "model_module_version": "1.5.0",
     "model_name": "DescriptionStyleModel",
     "state": {
      "_model_module": "@jupyter-widgets/controls",
      "_model_module_version": "1.5.0",
      "_model_name": "DescriptionStyleModel",
      "_view_count": null,
      "_view_module": "@jupyter-widgets/base",
      "_view_module_version": "1.2.0",
      "_view_name": "StyleView",
      "description_width": ""
     }
    },
    "bf722f71c61b4285bcbbf32fd619b3a6": {
     "model_module": "@jupyter-widgets/controls",
     "model_module_version": "1.5.0",
     "model_name": "HTMLModel",
     "state": {
      "_dom_classes": [],
      "_model_module": "@jupyter-widgets/controls",
      "_model_module_version": "1.5.0",
      "_model_name": "HTMLModel",
      "_view_count": null,
      "_view_module": "@jupyter-widgets/controls",
      "_view_module_version": "1.5.0",
      "_view_name": "HTMLView",
      "description": "",
      "description_tooltip": null,
      "layout": "IPY_MODEL_8c887ca9b0eb44fdb8608bf36b5db5c5",
      "placeholder": "​",
      "style": "IPY_MODEL_e4698337e6b843afac706ab657ca6af9",
      "value": " 2/2 [06:36&lt;00:00, 396.47s/it]"
     }
    },
    "bf77e97593a349718bdb5fd9bfd28fe3": {
     "model_module": "@jupyter-widgets/controls",
     "model_module_version": "1.5.0",
     "model_name": "DescriptionStyleModel",
     "state": {
      "_model_module": "@jupyter-widgets/controls",
      "_model_module_version": "1.5.0",
      "_model_name": "DescriptionStyleModel",
      "_view_count": null,
      "_view_module": "@jupyter-widgets/base",
      "_view_module_version": "1.2.0",
      "_view_name": "StyleView",
      "description_width": ""
     }
    },
    "c3a4fedc73b3480089ef9d13381471ed": {
     "model_module": "@jupyter-widgets/controls",
     "model_module_version": "1.5.0",
     "model_name": "FloatProgressModel",
     "state": {
      "_dom_classes": [],
      "_model_module": "@jupyter-widgets/controls",
      "_model_module_version": "1.5.0",
      "_model_name": "FloatProgressModel",
      "_view_count": null,
      "_view_module": "@jupyter-widgets/controls",
      "_view_module_version": "1.5.0",
      "_view_name": "ProgressView",
      "bar_style": "success",
      "description": "",
      "description_tooltip": null,
      "layout": "IPY_MODEL_eeba50e8242c4753bfc0ea48e03f9078",
      "max": 2,
      "min": 0,
      "orientation": "horizontal",
      "style": "IPY_MODEL_7a1f3340688d408092adade75f4baac4",
      "value": 2
     }
    },
    "c5e609d111b34d408a53a4cd71bb43d5": {
     "model_module": "@jupyter-widgets/controls",
     "model_module_version": "1.5.0",
     "model_name": "HTMLModel",
     "state": {
      "_dom_classes": [],
      "_model_module": "@jupyter-widgets/controls",
      "_model_module_version": "1.5.0",
      "_model_name": "HTMLModel",
      "_view_count": null,
      "_view_module": "@jupyter-widgets/controls",
      "_view_module_version": "1.5.0",
      "_view_name": "HTMLView",
      "description": "",
      "description_tooltip": null,
      "layout": "IPY_MODEL_a8dcdf1f7ab64242acb057e8b54ebf79",
      "placeholder": "​",
      "style": "IPY_MODEL_1ca492fddbaa4ea7a3226649154e01fd",
      "value": "Loading checkpoint shards: 100%"
     }
    },
    "c99aff4cfd664ae8a165a27bea0566c8": {
     "model_module": "@jupyter-widgets/controls",
     "model_module_version": "1.5.0",
     "model_name": "HBoxModel",
     "state": {
      "_dom_classes": [],
      "_model_module": "@jupyter-widgets/controls",
      "_model_module_version": "1.5.0",
      "_model_name": "HBoxModel",
      "_view_count": null,
      "_view_module": "@jupyter-widgets/controls",
      "_view_module_version": "1.5.0",
      "_view_name": "HBoxView",
      "box_style": "",
      "children": [
       "IPY_MODEL_e4b64cab6b7b418c8a2575ee26839039",
       "IPY_MODEL_c3a4fedc73b3480089ef9d13381471ed",
       "IPY_MODEL_bf722f71c61b4285bcbbf32fd619b3a6"
      ],
      "layout": "IPY_MODEL_fd11a6148b704c5b9142c5e8de2d3b25"
     }
    },
    "d66fa096d442423c9447cbfbdc1aad8d": {
     "model_module": "@jupyter-widgets/controls",
     "model_module_version": "1.5.0",
     "model_name": "DescriptionStyleModel",
     "state": {
      "_model_module": "@jupyter-widgets/controls",
      "_model_module_version": "1.5.0",
      "_model_name": "DescriptionStyleModel",
      "_view_count": null,
      "_view_module": "@jupyter-widgets/base",
      "_view_module_version": "1.2.0",
      "_view_name": "StyleView",
      "description_width": ""
     }
    },
    "d95f3a3f26c6470d984542cdfd68bec1": {
     "model_module": "@jupyter-widgets/controls",
     "model_module_version": "1.5.0",
     "model_name": "HTMLModel",
     "state": {
      "_dom_classes": [],
      "_model_module": "@jupyter-widgets/controls",
      "_model_module_version": "1.5.0",
      "_model_name": "HTMLModel",
      "_view_count": null,
      "_view_module": "@jupyter-widgets/controls",
      "_view_module_version": "1.5.0",
      "_view_name": "HTMLView",
      "description": "",
      "description_tooltip": null,
      "layout": "IPY_MODEL_6aef866a6c474dfabb2140ded933c5aa",
      "placeholder": "​",
      "style": "IPY_MODEL_d66fa096d442423c9447cbfbdc1aad8d",
      "value": " 2/2 [00:59&lt;00:00, 27.43s/it]"
     }
    },
    "dac3669f18284161a58d52f26dffb761": {
     "model_module": "@jupyter-widgets/controls",
     "model_module_version": "1.5.0",
     "model_name": "DescriptionStyleModel",
     "state": {
      "_model_module": "@jupyter-widgets/controls",
      "_model_module_version": "1.5.0",
      "_model_name": "DescriptionStyleModel",
      "_view_count": null,
      "_view_module": "@jupyter-widgets/base",
      "_view_module_version": "1.2.0",
      "_view_name": "StyleView",
      "description_width": ""
     }
    },
    "e375632975904402baea46163e2eeca1": {
     "model_module": "@jupyter-widgets/base",
     "model_module_version": "1.2.0",
     "model_name": "LayoutModel",
     "state": {
      "_model_module": "@jupyter-widgets/base",
      "_model_module_version": "1.2.0",
      "_model_name": "LayoutModel",
      "_view_count": null,
      "_view_module": "@jupyter-widgets/base",
      "_view_module_version": "1.2.0",
      "_view_name": "LayoutView",
      "align_content": null,
      "align_items": null,
      "align_self": null,
      "border": null,
      "bottom": null,
      "display": null,
      "flex": null,
      "flex_flow": null,
      "grid_area": null,
      "grid_auto_columns": null,
      "grid_auto_flow": null,
      "grid_auto_rows": null,
      "grid_column": null,
      "grid_gap": null,
      "grid_row": null,
      "grid_template_areas": null,
      "grid_template_columns": null,
      "grid_template_rows": null,
      "height": null,
      "justify_content": null,
      "justify_items": null,
      "left": null,
      "margin": null,
      "max_height": null,
      "max_width": null,
      "min_height": null,
      "min_width": null,
      "object_fit": null,
      "object_position": null,
      "order": null,
      "overflow": null,
      "overflow_x": null,
      "overflow_y": null,
      "padding": null,
      "right": null,
      "top": null,
      "visibility": null,
      "width": null
     }
    },
    "e4698337e6b843afac706ab657ca6af9": {
     "model_module": "@jupyter-widgets/controls",
     "model_module_version": "1.5.0",
     "model_name": "DescriptionStyleModel",
     "state": {
      "_model_module": "@jupyter-widgets/controls",
      "_model_module_version": "1.5.0",
      "_model_name": "DescriptionStyleModel",
      "_view_count": null,
      "_view_module": "@jupyter-widgets/base",
      "_view_module_version": "1.2.0",
      "_view_name": "StyleView",
      "description_width": ""
     }
    },
    "e4b64cab6b7b418c8a2575ee26839039": {
     "model_module": "@jupyter-widgets/controls",
     "model_module_version": "1.5.0",
     "model_name": "HTMLModel",
     "state": {
      "_dom_classes": [],
      "_model_module": "@jupyter-widgets/controls",
      "_model_module_version": "1.5.0",
      "_model_name": "HTMLModel",
      "_view_count": null,
      "_view_module": "@jupyter-widgets/controls",
      "_view_module_version": "1.5.0",
      "_view_name": "HTMLView",
      "description": "",
      "description_tooltip": null,
      "layout": "IPY_MODEL_f0bcdaf940d14ad796fc7ac46c8e1e64",
      "placeholder": "​",
      "style": "IPY_MODEL_b6e821c974674f2290c354238d6c919c",
      "value": "Upload 2 LFS files: 100%"
     }
    },
    "eeba50e8242c4753bfc0ea48e03f9078": {
     "model_module": "@jupyter-widgets/base",
     "model_module_version": "1.2.0",
     "model_name": "LayoutModel",
     "state": {
      "_model_module": "@jupyter-widgets/base",
      "_model_module_version": "1.2.0",
      "_model_name": "LayoutModel",
      "_view_count": null,
      "_view_module": "@jupyter-widgets/base",
      "_view_module_version": "1.2.0",
      "_view_name": "LayoutView",
      "align_content": null,
      "align_items": null,
      "align_self": null,
      "border": null,
      "bottom": null,
      "display": null,
      "flex": null,
      "flex_flow": null,
      "grid_area": null,
      "grid_auto_columns": null,
      "grid_auto_flow": null,
      "grid_auto_rows": null,
      "grid_column": null,
      "grid_gap": null,
      "grid_row": null,
      "grid_template_areas": null,
      "grid_template_columns": null,
      "grid_template_rows": null,
      "height": null,
      "justify_content": null,
      "justify_items": null,
      "left": null,
      "margin": null,
      "max_height": null,
      "max_width": null,
      "min_height": null,
      "min_width": null,
      "object_fit": null,
      "object_position": null,
      "order": null,
      "overflow": null,
      "overflow_x": null,
      "overflow_y": null,
      "padding": null,
      "right": null,
      "top": null,
      "visibility": null,
      "width": null
     }
    },
    "eee8731f316244eda5ff0765fd12bf85": {
     "model_module": "@jupyter-widgets/controls",
     "model_module_version": "1.5.0",
     "model_name": "HTMLModel",
     "state": {
      "_dom_classes": [],
      "_model_module": "@jupyter-widgets/controls",
      "_model_module_version": "1.5.0",
      "_model_name": "HTMLModel",
      "_view_count": null,
      "_view_module": "@jupyter-widgets/controls",
      "_view_module_version": "1.5.0",
      "_view_name": "HTMLView",
      "description": "",
      "description_tooltip": null,
      "layout": "IPY_MODEL_130120644beb48acbc038651459af43c",
      "placeholder": "​",
      "style": "IPY_MODEL_bf77e97593a349718bdb5fd9bfd28fe3",
      "value": "pytorch_model-00001-of-00002.bin: 100%"
     }
    },
    "f0bcdaf940d14ad796fc7ac46c8e1e64": {
     "model_module": "@jupyter-widgets/base",
     "model_module_version": "1.2.0",
     "model_name": "LayoutModel",
     "state": {
      "_model_module": "@jupyter-widgets/base",
      "_model_module_version": "1.2.0",
      "_model_name": "LayoutModel",
      "_view_count": null,
      "_view_module": "@jupyter-widgets/base",
      "_view_module_version": "1.2.0",
      "_view_name": "LayoutView",
      "align_content": null,
      "align_items": null,
      "align_self": null,
      "border": null,
      "bottom": null,
      "display": null,
      "flex": null,
      "flex_flow": null,
      "grid_area": null,
      "grid_auto_columns": null,
      "grid_auto_flow": null,
      "grid_auto_rows": null,
      "grid_column": null,
      "grid_gap": null,
      "grid_row": null,
      "grid_template_areas": null,
      "grid_template_columns": null,
      "grid_template_rows": null,
      "height": null,
      "justify_content": null,
      "justify_items": null,
      "left": null,
      "margin": null,
      "max_height": null,
      "max_width": null,
      "min_height": null,
      "min_width": null,
      "object_fit": null,
      "object_position": null,
      "order": null,
      "overflow": null,
      "overflow_x": null,
      "overflow_y": null,
      "padding": null,
      "right": null,
      "top": null,
      "visibility": null,
      "width": null
     }
    },
    "f135278e410f4b708435bb80fb630bcf": {
     "model_module": "@jupyter-widgets/controls",
     "model_module_version": "1.5.0",
     "model_name": "FloatProgressModel",
     "state": {
      "_dom_classes": [],
      "_model_module": "@jupyter-widgets/controls",
      "_model_module_version": "1.5.0",
      "_model_name": "FloatProgressModel",
      "_view_count": null,
      "_view_module": "@jupyter-widgets/controls",
      "_view_module_version": "1.5.0",
      "_view_name": "ProgressView",
      "bar_style": "success",
      "description": "",
      "description_tooltip": null,
      "layout": "IPY_MODEL_f7292741953e47699540ef8712fc0d8d",
      "max": 9976637886,
      "min": 0,
      "orientation": "horizontal",
      "style": "IPY_MODEL_9434350b1b9c4060812feb9ecbf63278",
      "value": 9976637886
     }
    },
    "f7292741953e47699540ef8712fc0d8d": {
     "model_module": "@jupyter-widgets/base",
     "model_module_version": "1.2.0",
     "model_name": "LayoutModel",
     "state": {
      "_model_module": "@jupyter-widgets/base",
      "_model_module_version": "1.2.0",
      "_model_name": "LayoutModel",
      "_view_count": null,
      "_view_module": "@jupyter-widgets/base",
      "_view_module_version": "1.2.0",
      "_view_name": "LayoutView",
      "align_content": null,
      "align_items": null,
      "align_self": null,
      "border": null,
      "bottom": null,
      "display": null,
      "flex": null,
      "flex_flow": null,
      "grid_area": null,
      "grid_auto_columns": null,
      "grid_auto_flow": null,
      "grid_auto_rows": null,
      "grid_column": null,
      "grid_gap": null,
      "grid_row": null,
      "grid_template_areas": null,
      "grid_template_columns": null,
      "grid_template_rows": null,
      "height": null,
      "justify_content": null,
      "justify_items": null,
      "left": null,
      "margin": null,
      "max_height": null,
      "max_width": null,
      "min_height": null,
      "min_width": null,
      "object_fit": null,
      "object_position": null,
      "order": null,
      "overflow": null,
      "overflow_x": null,
      "overflow_y": null,
      "padding": null,
      "right": null,
      "top": null,
      "visibility": null,
      "width": null
     }
    },
    "fd11a6148b704c5b9142c5e8de2d3b25": {
     "model_module": "@jupyter-widgets/base",
     "model_module_version": "1.2.0",
     "model_name": "LayoutModel",
     "state": {
      "_model_module": "@jupyter-widgets/base",
      "_model_module_version": "1.2.0",
      "_model_name": "LayoutModel",
      "_view_count": null,
      "_view_module": "@jupyter-widgets/base",
      "_view_module_version": "1.2.0",
      "_view_name": "LayoutView",
      "align_content": null,
      "align_items": null,
      "align_self": null,
      "border": null,
      "bottom": null,
      "display": null,
      "flex": null,
      "flex_flow": null,
      "grid_area": null,
      "grid_auto_columns": null,
      "grid_auto_flow": null,
      "grid_auto_rows": null,
      "grid_column": null,
      "grid_gap": null,
      "grid_row": null,
      "grid_template_areas": null,
      "grid_template_columns": null,
      "grid_template_rows": null,
      "height": null,
      "justify_content": null,
      "justify_items": null,
      "left": null,
      "margin": null,
      "max_height": null,
      "max_width": null,
      "min_height": null,
      "min_width": null,
      "object_fit": null,
      "object_position": null,
      "order": null,
      "overflow": null,
      "overflow_x": null,
      "overflow_y": null,
      "padding": null,
      "right": null,
      "top": null,
      "visibility": null,
      "width": null
     }
    }
   }
  }
 },
 "nbformat": 4,
 "nbformat_minor": 4
}
